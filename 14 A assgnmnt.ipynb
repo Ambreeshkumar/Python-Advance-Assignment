{
 "cells": [
  {
   "cell_type": "code",
   "execution_count": null,
   "id": "ad72b95d",
   "metadata": {},
   "outputs": [],
   "source": [
    "Q1. Is an assignment operator like += only for show? Is it possible that it would lead to faster results\n",
    "    at the runtime?\n",
    "    \n",
    "Answer.\n",
    "The Python += operator adds two values together and assigns the final value to a variable. This operator is called the addition assignment operator. \n",
    "This operator is often used to add values to a counter variable that tracks how many times something has happened.\n",
    "\n",
    "When you use the addition assignment operator, two numbers will be added. The resultant value will be assigned to a variable.\n",
    "\n",
    "i think  this += operater is faster lead at the runtime.\n"
   ]
  },
  {
   "cell_type": "code",
   "execution_count": 7,
   "id": "464515b9",
   "metadata": {},
   "outputs": [
    {
     "name": "stdout",
     "output_type": "stream",
     "text": [
      "6\n"
     ]
    }
   ],
   "source": [
    "# Add and Assign: This operator is used to add the right side operand with the left side operand and \n",
    "# then assigning the result to the left operand.\n",
    "\n",
    "\n",
    "a=4\n",
    "b=2\n",
    "a+=b\n",
    "print(a)"
   ]
  },
  {
   "cell_type": "code",
   "execution_count": null,
   "id": "b967685b",
   "metadata": {},
   "outputs": [],
   "source": [
    "Q2. What is the smallest number of statements you'd have to write in most programming languages to\n",
    "replace the Python expression a, b = a + b, a?\n",
    "\n",
    "answer.\n",
    "Smallest number in this satements, 'a' is asallest number.\n"
   ]
  },
  {
   "cell_type": "code",
   "execution_count": null,
   "id": "c35fda95",
   "metadata": {},
   "outputs": [],
   "source": [
    "Q3. In Python, what is the most effective way to set a list of 100 integers to 0?\n"
   ]
  },
  {
   "cell_type": "code",
   "execution_count": 15,
   "id": "9644d450",
   "metadata": {},
   "outputs": [
    {
     "name": "stdout",
     "output_type": "stream",
     "text": [
      "[0, 1, 2, 3, 4, 5, 6, 7, 8, 9, 10, 11, 12, 13, 14, 15, 16, 17, 18, 19, 20, 21, 22, 23, 24, 25, 26, 27, 28, 29, 30, 31, 32, 33, 34, 35, 36, 37, 38, 39, 40, 41, 42, 43, 44, 45, 46, 47, 48, 49, 50, 51, 52, 53, 54, 55, 56, 57, 58, 59, 60, 61, 62, 63, 64, 65, 66, 67, 68, 69, 70, 71, 72, 73, 74, 75, 76, 77, 78, 79, 80, 81, 82, 83, 84, 85, 86, 87, 88, 89, 90, 91, 92, 93, 94, 95, 96, 97, 98, 99]\n"
     ]
    }
   ],
   "source": [
    "# most effective way to set a list of 100 int to 0 \n",
    "\n",
    "list = []\n",
    "for i in range(100):\n",
    "    list.append(i)\n",
    "print(list)"
   ]
  },
  {
   "cell_type": "code",
   "execution_count": null,
   "id": "14275a58",
   "metadata": {},
   "outputs": [],
   "source": [
    "Q4. What is the most effective way to initialise a list of 99 integers that repeats the sequence 1, 2, 3?\n",
    "S If necessary, show step-by-step instructions on how to accomplish this.\n"
   ]
  },
  {
   "cell_type": "code",
   "execution_count": 21,
   "id": "fb976f4d",
   "metadata": {},
   "outputs": [
    {
     "name": "stdout",
     "output_type": "stream",
     "text": [
      "[(1, 2, 3), (1, 2, 3), (1, 2, 3), (1, 2, 3), (1, 2, 3), (1, 2, 3), (1, 2, 3), (1, 2, 3), (1, 2, 3), (1, 2, 3), (1, 2, 3), (1, 2, 3), (1, 2, 3), (1, 2, 3), (1, 2, 3), (1, 2, 3), (1, 2, 3), (1, 2, 3), (1, 2, 3), (1, 2, 3), (1, 2, 3), (1, 2, 3), (1, 2, 3), (1, 2, 3), (1, 2, 3), (1, 2, 3), (1, 2, 3), (1, 2, 3), (1, 2, 3), (1, 2, 3), (1, 2, 3), (1, 2, 3), (1, 2, 3), (1, 2, 3), (1, 2, 3), (1, 2, 3), (1, 2, 3), (1, 2, 3), (1, 2, 3), (1, 2, 3), (1, 2, 3), (1, 2, 3), (1, 2, 3), (1, 2, 3), (1, 2, 3), (1, 2, 3), (1, 2, 3), (1, 2, 3), (1, 2, 3), (1, 2, 3), (1, 2, 3), (1, 2, 3), (1, 2, 3), (1, 2, 3), (1, 2, 3), (1, 2, 3), (1, 2, 3), (1, 2, 3), (1, 2, 3), (1, 2, 3), (1, 2, 3), (1, 2, 3), (1, 2, 3), (1, 2, 3), (1, 2, 3), (1, 2, 3), (1, 2, 3), (1, 2, 3), (1, 2, 3), (1, 2, 3), (1, 2, 3), (1, 2, 3), (1, 2, 3), (1, 2, 3), (1, 2, 3), (1, 2, 3), (1, 2, 3), (1, 2, 3), (1, 2, 3), (1, 2, 3), (1, 2, 3), (1, 2, 3), (1, 2, 3), (1, 2, 3), (1, 2, 3), (1, 2, 3), (1, 2, 3), (1, 2, 3), (1, 2, 3), (1, 2, 3), (1, 2, 3), (1, 2, 3), (1, 2, 3), (1, 2, 3), (1, 2, 3), (1, 2, 3), (1, 2, 3), (1, 2, 3), (1, 2, 3)]\n"
     ]
    }
   ],
   "source": [
    "a= 1,2,3\n",
    "emp_list = []\n",
    "for i in range(99):\n",
    "    emp_list.append(a)\n",
    "print(emp_list)"
   ]
  },
  {
   "cell_type": "code",
   "execution_count": null,
   "id": "66075120",
   "metadata": {},
   "outputs": [],
   "source": [
    "Q5. If you're using IDLE to run a Python application, explain how to print a multidimensional list as\n",
    "efficiently?\n",
    "\n",
    "Answer.\n"
   ]
  },
  {
   "cell_type": "code",
   "execution_count": 22,
   "id": "6462d898",
   "metadata": {},
   "outputs": [
    {
     "name": "stdout",
     "output_type": "stream",
     "text": [
      "[2, 4, 6, 8, 10]\n",
      "[3, 6, 9, 12, 15]\n",
      "[4, 8, 12, 16, 20]\n"
     ]
    }
   ],
   "source": [
    "# program to demonstrate printing\n",
    "# of complete multidimensional list row\n",
    "# by row.\n",
    "a = [[2, 4, 6, 8, 10], [3, 6, 9, 12, 15], [4, 8, 12, 16, 20]]\n",
    "for record in a:\n",
    "    print(record)"
   ]
  },
  {
   "cell_type": "code",
   "execution_count": null,
   "id": "44cf69c5",
   "metadata": {},
   "outputs": [],
   "source": [
    "Q6. Is it possible to use list comprehension with a string? If so, how can you go about doing it?\n",
    "\n",
    "Answer.\n",
    "If you noticed, human is a string, not a list. This is the power of list comprehension. It can identify when it receives a string or \n",
    "a tuple and work on it like a list. You can do that using loops.\n",
    "\n"
   ]
  },
  {
   "cell_type": "code",
   "execution_count": 4,
   "id": "b27a69cc",
   "metadata": {},
   "outputs": [
    {
     "name": "stdout",
     "output_type": "stream",
     "text": [
      "['a', 'm', 'b', 'r', 'e', 'e', 's', 'h']\n",
      "['h', 'u', 'm', 'a', 'n']\n"
     ]
    }
   ],
   "source": [
    "# creare strinh list with loop \n",
    "a = []\n",
    "for i in \"ambreesh\":\n",
    "    a.append(i)\n",
    "print(a)\n",
    "\n",
    "\n",
    "# create string list with comprehension \n",
    "list = [letter for letter in \"human\"]\n",
    "\n",
    "print(list)"
   ]
  },
  {
   "cell_type": "code",
   "execution_count": null,
   "id": "244bb83b",
   "metadata": {},
   "outputs": [],
   "source": [
    "Q7. From the command line, how do you get support with a user-written Python programme? Is this\n",
    "    possible from inside IDLE?\n",
    "    \n",
    "Answer.\n",
    "To run Python scripts with the python command, you need to open a command-line and type in the word python , or python3 if you have both versions, \n",
    "followed by the path to your script, just like this: $ python3 hello.py Hello World!\n",
    "    \n",
    "    "
   ]
  },
  {
   "cell_type": "code",
   "execution_count": null,
   "id": "3bd58f39",
   "metadata": {},
   "outputs": [],
   "source": [
    "Q8. Functions are said to be “first-class objects” in Python but not in most other languages, such as\n",
    "C++ or Java. What can you do in Python with a function (callable object) that you can't do in C or\n",
    "C++?\n",
    "\n",
    "Answer.Python uses Garbage Collection whereas C++ does not. C++ is a statically typed language, while Python is a dynamically typed language. \n",
    "Python is easier to use than C++. Python is run through an interpreter, whilst C++ is pre-compiled.\n",
    "\n",
    "To say that functions are first-class in a certain programming language means that they can be passed around and manipulated similarly to how you \n",
    "would pass around and manipulate other kinds of objects (like integers or strings). You can assign a function to a variable, pass it as an argument \n",
    "to another function, etc\n",
    "\n",
    "\n",
    "Python's functions are first-class objects. You can assign them to variables, store them in data structures, pass them as arguments to other functions, \n",
    "and even return them as values from other functions\n",
    "\n",
    "\n"
   ]
  },
  {
   "cell_type": "code",
   "execution_count": null,
   "id": "c338e54c",
   "metadata": {},
   "outputs": [],
   "source": [
    "Q9. How do you distinguish between a wrapper, a wrapped feature, and a decorator?\n",
    "\n",
    "Answer.\n",
    "Wrappers around the functions are also knows as decorators which are a very powerful and useful tool in Python since it allows programmers to modify the behavior of function or class. \n",
    "Decorators allow us to wrap another function in order to extend the behavior of the wrapped function, without permanently modifying it. In Decorators, functions are taken as the \n",
    "argument into another function and then called inside the wrapper function.\n",
    "\n",
    "Syntax:\n",
    "\n",
    "@wrapper\n",
    "def function(n):\n",
    "    statements(s)\n",
    "This is also similar to\n",
    "\n",
    "def function(n):\n",
    "    statement(s)\n",
    "\n",
    "function = wrapper(function)\n",
    "\n",
    "\n",
    "Decorators allow us to wrap another function in order to extend the behavior of the wrapped function, without permanently modifying it. In Decorators, functions are taken as the argument \n",
    "into another function and then called inside the wrapper function. Let's see the below examples for better understanding.\n",
    "\n",
    "\n"
   ]
  },
  {
   "cell_type": "code",
   "execution_count": null,
   "id": "3309b278",
   "metadata": {},
   "outputs": [],
   "source": [
    "Q10. If a function is a generator function, what does it return?\n",
    "\n",
    "Answer.\n",
    "A generator is a special type of function which does not return a single value, instead, \n",
    "it returns an iterator object with a sequence of values. In a generator function, a yield \n",
    "statement is used rather than a return statement.\n",
    "\n",
    "A return statement in a generator, when executed, will make the generator finish (i.e. the done property of the object returned by it will be set to true ). \n",
    "If a value is returned, it will be set as the value property of the object returned by the generator.\n",
    "\n"
   ]
  },
  {
   "cell_type": "code",
   "execution_count": null,
   "id": "440e8ded",
   "metadata": {},
   "outputs": [],
   "source": [
    "Q11. What is the one improvement that must be made to a function in order for it to become a\n",
    "      generator function in the Python language?\n",
    "    \n",
    "Answer.\n",
    "Generators are functions that can be exited and later re-entered. Their context (variable bindings) will be saved across re-entrances.\n",
    "\n",
    "Calling a generator function does not execute its body immediately; an iterator object for the function is returned instead. \n",
    "When the iterator's next() method is called, the generator function's body is executed until the first yield expression, \n",
    "which specifies the value to be returned from the iterator or, with yield*, delegates to another generator function. \n",
    "The next() method returns an object with a value property containing the yielded value and a done property which indicates whether the \n",
    "generator has yielded its last value, as a boolean. Calling the next() method with an argument will resume the generator function execution, \n",
    "replacing the yield expression where an execution was paused with the argument from next().\n",
    "\n"
   ]
  },
  {
   "cell_type": "code",
   "execution_count": null,
   "id": "fa8c6210",
   "metadata": {},
   "outputs": [],
   "source": [
    "Q12. Identify at least one benefit of generators.\n",
    "\n",
    "Answer.\n",
    "Generators allow you to create iterators in a very pythonic manner. \n",
    "Iterators allow lazy evaluation, only generating the next element of \n",
    "an iterable object when requested. This is useful for very large data sets. \n",
    "Iterators and generators can only be iterated over once.\n",
    "\n",
    "5 Benefits of Using a Portable Generator\n",
    "Emergency Power. ...\n",
    "Power for Appliances. ...\n",
    "Power for Tools. ...\n",
    "Recreational Uses. ...\n",
    "Damage Prevention. ...\n",
    "Suitability. ...\n",
    "Safe and Easy to Use. ...\n",
    "Rugged and Dependable.\n"
   ]
  }
 ],
 "metadata": {
  "kernelspec": {
   "display_name": "Python 3",
   "language": "python",
   "name": "python3"
  },
  "language_info": {
   "codemirror_mode": {
    "name": "ipython",
    "version": 3
   },
   "file_extension": ".py",
   "mimetype": "text/x-python",
   "name": "python",
   "nbconvert_exporter": "python",
   "pygments_lexer": "ipython3",
   "version": "3.8.8"
  }
 },
 "nbformat": 4,
 "nbformat_minor": 5
}
