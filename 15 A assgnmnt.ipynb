{
 "cells": [
  {
   "cell_type": "code",
   "execution_count": null,
   "id": "808d2680",
   "metadata": {},
   "outputs": [],
   "source": [
    "Q1. What are the new features added in Python 3.8 version?\n",
    "\n",
    "Answer.\n",
    "The latest, greatest version of Python is going to be out in beta soon. While there's still some time before the final stable version is available, \n",
    "it is worth looking into all that's new. Python 3.8 adds some new syntax to the language, a few minor changes to existing behavior, and mostly a bunch \n",
    "of speed improvements — maintaining the tradition from the earlier 3.7 release.\n",
    "\n",
    "This post outlines the most significant additions and changes you should know about Python 3.8. Take a look!\n",
    "\n",
    "1. The walrus operator\n",
    "2. Positional-only arguments\n",
    "3. f-strings now support \"=\"\n",
    "4. Simplified iterable unpacking for return and yield\n",
    "5. New syntax warnings\n"
   ]
  },
  {
   "cell_type": "code",
   "execution_count": null,
   "id": "e3a2ca2e",
   "metadata": {},
   "outputs": [],
   "source": [
    "Q2. What is monkey patching in Python?\n",
    "\n",
    "Answer.\n",
    "In Python, the term monkey patch refers to dynamic (or run-time) modifications of a class or module. \n",
    "In Python, we can actually change the behavior of code at run-time. We use above module (monk) in below \n",
    "code and change behavior of func() at run-time by assigning different value.\n",
    "\n"
   ]
  },
  {
   "cell_type": "code",
   "execution_count": null,
   "id": "3dec140c",
   "metadata": {},
   "outputs": [],
   "source": [
    "# monk.py\n",
    "class A:\n",
    "     def func(self):\n",
    "          print (\"func() is being called\")\n",
    "        \n",
    "        \n",
    "# We use above module (monk) in below code and change behavior of func() at run-time by assigning different value.        \n",
    "\n",
    "import monk\n",
    "def monkey_f(self):\n",
    "     print (\"monkey_f() is being called\")\n",
    "   \n",
    "# replacing address of \"func\" with \"monkey_f\"\n",
    "monk.A.func = monkey_f\n",
    "obj = monk.A()\n",
    "  \n",
    "# calling function \"func\" whose address got replaced\n",
    "# with function \"monkey_f()\"\n",
    "obj.func()"
   ]
  },
  {
   "cell_type": "code",
   "execution_count": null,
   "id": "9d29dd5d",
   "metadata": {},
   "outputs": [],
   "source": [
    "Q3. What is the difference between a shallow copy and deep copy?\n",
    "\n",
    "Answer.\n",
    "A shallow copy constructs a new compound object and then (to the extent possible) inserts references into it to the objects found in the original. \n",
    "A deep copy constructs a new compound object and then, recursively, inserts copies into it of the objects found in the original.\n",
    "\n",
    "  Shallow Copy:\n",
    "1. Shallow Copy stores the references of objects to the original memory address.   \n",
    "2. Shallow Copy reflects changes made to the new/copied object in the original object\n",
    "3. Shallow Copy stores the copy of the original object and points the references to the objects.\n",
    "4. Shallow copy is faster.\n",
    "\n",
    "\n",
    "Deep Copy:\n",
    "1. Deep copy stores copies of the object’s value.\n",
    "2. Deep copy doesn’t reflect changes made to the new/copied object in the original object.\n",
    "3. Deep copy stores the copy of the original object and recursively copies the objects as well.\n",
    "4. Deep copy is comparatively slower.\n"
   ]
  },
  {
   "cell_type": "code",
   "execution_count": null,
   "id": "1ccc64b0",
   "metadata": {},
   "outputs": [],
   "source": [
    "Q4. What is the maximum possible length of an identifier?\n",
    "\n",
    "Answer.\n",
    "In Python, the highest possible length of an identifier is 79 characters. Python is a high level programming language. It’s also a complex form and a collector of waste.\n",
    "\n",
    "Python, particularly when combined with identifiers, is case-sensitive.\n",
    "When writing or using identifiers in Python, it has a maximum of 79 characters.\n",
    "Unlikely, Python gives the identifiers unlimited length.\n",
    "However, the layout of PEP-8 prevents the user from breaking the rules and includes a 79-character limit.\n",
    "\n"
   ]
  },
  {
   "cell_type": "code",
   "execution_count": null,
   "id": "982e888d",
   "metadata": {},
   "outputs": [],
   "source": [
    "Q5. What is generator comprehension?\n",
    "\n",
    "Answer.\n",
    "A generator comprehension is a single-line specification for defining a generator in Python. It is absolutely essential to learn this syntax in order \n",
    "to write simple and readable code. Note: Generator comprehensions are not the only method for defining generators in Python.\n",
    "    \n",
    "A generator comprehension is a single-line specification for defining a generator in Python. It is absolutely essential to learn this syntax in order to \n",
    "write simple and readable code.\n",
    "\n",
    "Generator comprehensions are not the only method for defining generators in Python. One can define a generator similar to the way one can define a function \n",
    "(which we will encounter soon). See this section of the official Python tutorial if you are interested in diving deeper into generators.   \n",
    "    \n",
    "    \n",
    "    "
   ]
  }
 ],
 "metadata": {
  "kernelspec": {
   "display_name": "Python 3",
   "language": "python",
   "name": "python3"
  },
  "language_info": {
   "codemirror_mode": {
    "name": "ipython",
    "version": 3
   },
   "file_extension": ".py",
   "mimetype": "text/x-python",
   "name": "python",
   "nbconvert_exporter": "python",
   "pygments_lexer": "ipython3",
   "version": "3.8.8"
  }
 },
 "nbformat": 4,
 "nbformat_minor": 5
}
