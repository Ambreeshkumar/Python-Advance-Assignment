{
 "cells": [
  {
   "cell_type": "code",
   "execution_count": null,
   "id": "95852d9d",
   "metadata": {},
   "outputs": [],
   "source": [
    "Question1\n",
    "Create a function that takes a string and returns a string in which each character is repeated\n",
    "once."
   ]
  },
  {
   "cell_type": "code",
   "execution_count": 6,
   "id": "8302085b",
   "metadata": {},
   "outputs": [
    {
     "data": {
      "text/plain": [
       "'aammbbrreeeesshh'"
      ]
     },
     "execution_count": 6,
     "metadata": {},
     "output_type": "execute_result"
    }
   ],
   "source": [
    "def double(str):\n",
    "    outstr = ''\n",
    "    for i in str:\n",
    "        outstr = outstr + i + i\n",
    "    return outstr\n",
    "\n",
    "\n",
    "double('ambreesh')\n",
    "    "
   ]
  },
  {
   "cell_type": "code",
   "execution_count": null,
   "id": "5ebb711a",
   "metadata": {},
   "outputs": [],
   "source": [
    "Question2\n",
    "Create a function that reverses a boolean value and returns the string &quot;boolean expected&quot;\n",
    "if another variable type is given.\n"
   ]
  },
  {
   "cell_type": "code",
   "execution_count": 9,
   "id": "2646918e",
   "metadata": {},
   "outputs": [
    {
     "name": "stdout",
     "output_type": "stream",
     "text": [
      "False\n",
      "True\n",
      "boolean expected\n",
      "boolean expected\n"
     ]
    }
   ],
   "source": [
    "def reverse(arg):    # code is not correct\n",
    "    if arg == bool:\n",
    "        return not arg\n",
    "    else:\n",
    "        return \"boolean expected\"\n",
    "\n",
    "# Examples Edabit:\n",
    "def reverse(arg):\n",
    "    if isinstance(arg, bool):\n",
    "        return not arg\n",
    "    else:\n",
    "        return('boolean expected')\n",
    "\n",
    "def reverse(arg=None):\n",
    "    return not arg if type(arg) == bool else \"boolean expected\"\n",
    "\n",
    "print(reverse(True)) # False\n",
    "print(reverse(False)) # True\n",
    "print(reverse(0)) # \"boolean expected\"\n",
    "print(reverse(None)) # \"boolean expected\""
   ]
  },
  {
   "cell_type": "code",
   "execution_count": null,
   "id": "03c5a565",
   "metadata": {},
   "outputs": [],
   "source": [
    "Question3\n",
    "Create a function that returns the thickness (in meters) of a piece of paper after folding it n\n",
    "number of times. The paper starts off with a thickness of 0.5mm.\n"
   ]
  },
  {
   "cell_type": "code",
   "execution_count": 11,
   "id": "6bbe3f87",
   "metadata": {},
   "outputs": [
    {
     "name": "stdout",
     "output_type": "stream",
     "text": [
      "thickness of paper in mm  2.5 mm\n"
     ]
    },
    {
     "data": {
      "text/plain": [
       "('thickness of paper in meter', 0.0025)"
      ]
     },
     "execution_count": 11,
     "metadata": {},
     "output_type": "execute_result"
    }
   ],
   "source": [
    "def PaperThickness(n):\n",
    "    # 1m is equal to 1000 mm:\n",
    "    thickness = n*0.5\n",
    "    print(\"thickness of paper in mm \",thickness,\"mm\")\n",
    "    result = thickness/1000\n",
    "    return (\"thickness of paper in meter\",result)\n",
    "    \n",
    "PaperThickness(5)\n"
   ]
  },
  {
   "cell_type": "code",
   "execution_count": null,
   "id": "9f2650a8",
   "metadata": {},
   "outputs": [],
   "source": [
    "def index_of_caps(str):\n",
    "    list = []\n",
    "    for i in(str):\n",
    "        if (i == isupper()):\n",
    "            list\n",
    "            \n",
    "        "
   ]
  },
  {
   "cell_type": "code",
   "execution_count": 16,
   "id": "19e5a0a0",
   "metadata": {},
   "outputs": [
    {
     "name": "stdout",
     "output_type": "stream",
     "text": [
      "The original string is : GeeKsFoRGEEks\n",
      "Uppercase elements indices : [0, 3, 5, 7, 8, 9, 10]\n"
     ]
    }
   ],
   "source": [
    "\n",
    "\n",
    "# initializing string\n",
    "test_str = 'GeeKsFoRGEEks'\n",
    "  \n",
    "# printing original string\n",
    "print(\"The original string is : \" + str(test_str))\n",
    "  \n",
    "# Uppercase check using isupper()\n",
    "res = [idx for idx in range(len(test_str)) if test_str[idx].isupper()]\n",
    "  \n",
    "# printing result \n",
    "print(\"Uppercase elements indices : \" + str(res)) "
   ]
  },
  {
   "cell_type": "code",
   "execution_count": null,
   "id": "15e5ba5c",
   "metadata": {},
   "outputs": [],
   "source": [
    "Question5\n",
    "Using list comprehensions, create a function that finds all even numbers from 1 to the given\n",
    "number.\n"
   ]
  },
  {
   "cell_type": "code",
   "execution_count": 20,
   "id": "1087c084",
   "metadata": {},
   "outputs": [
    {
     "name": "stdout",
     "output_type": "stream",
     "text": [
      "enter the number8\n",
      "[2, 4, 6, 8]\n"
     ]
    }
   ],
   "source": [
    "num = int(input(\"enter the number\"))\n",
    "list = []\n",
    "for i in range(1,num+1):\n",
    "    if (i%2==0):\n",
    "        list.append(i)\n",
    "print(list)\n",
    "\n"
   ]
  },
  {
   "cell_type": "code",
   "execution_count": null,
   "id": "d32fde01",
   "metadata": {},
   "outputs": [],
   "source": []
  }
 ],
 "metadata": {
  "kernelspec": {
   "display_name": "Python 3",
   "language": "python",
   "name": "python3"
  },
  "language_info": {
   "codemirror_mode": {
    "name": "ipython",
    "version": 3
   },
   "file_extension": ".py",
   "mimetype": "text/x-python",
   "name": "python",
   "nbconvert_exporter": "python",
   "pygments_lexer": "ipython3",
   "version": "3.8.8"
  }
 },
 "nbformat": 4,
 "nbformat_minor": 5
}
