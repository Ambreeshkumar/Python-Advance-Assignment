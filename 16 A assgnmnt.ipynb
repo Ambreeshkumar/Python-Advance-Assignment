{
 "cells": [
  {
   "cell_type": "code",
   "execution_count": null,
   "id": "97a6717a",
   "metadata": {},
   "outputs": [],
   "source": [
    "Q1. What is the benefit of regular expressions?\n",
    "\n",
    "answer.\n",
    "Regular expressions are useful in search and replace operations. The typical use case is to look for a sub-string that \n",
    "matches a pattern and replace it with something else. Most APIs using regular expressions allow you to reference capture \n",
    "groups from the search pattern in the replacement string\n",
    "\n",
    "A Regular Expression is used for identifying a search pattern in a text string. It also helps in finding out the correctness \n",
    "of the data and even operations such as finding, replacing and formatting the data is possible using Regular Expressions.\n",
    "\n",
    "It effectively saves a lot of development time, which are in search of specific string pattern. It helps in important user \n",
    "information validations like email address, phone numbers and IP address. It helps in highlighting special keywords in a \n",
    "file based on search result or input"
   ]
  },
  {
   "cell_type": "code",
   "execution_count": null,
   "id": "785f4ead",
   "metadata": {},
   "outputs": [],
   "source": [
    "Q2. Describe the difference between the effects of '(ab)c+' and 'a(bc)+.'Which of these, if any, is the\n",
    "unqualified pattern 'abc+'?\n",
    "\n",
    "Answer.\n",
    "The difference is in the operator precedence (order of operations) in both expressions. The result of the expression is evaluated on the basis of the different order. \n",
    "In the first expression, a * b is evaluated firstly, and in the second expression, the brackets facilitate the sum of a and b, followed by the multiplication by c. \n",
    "For example, if a = 2, b = 3, c = 4, the expressions will be evaluated as follows:\n",
    "    "
   ]
  },
  {
   "cell_type": "code",
   "execution_count": null,
   "id": "8a856927",
   "metadata": {},
   "outputs": [],
   "source": [
    "Q3. How much do you need to use the following sentence while using regular expressions?\n",
    "\n",
    "import re\n",
    "\n",
    "Answer. \n",
    "In Python, regular expressions are supported by the re module. That means that if you want to start using them in your Python scripts, \n",
    "you have to import this module with the help of import:\n",
    "\n",
    "import re\n",
    "The re library in Python provides several unctions that make it a skill worth mastering.\n",
    "\n",
    "You can easily tackle many basic patterns in Python using ordinary characters. Ordinary characters are the simplest regular expressions. \n",
    "They match themselves exactly and do not have a special meaning in their regular expression syntax.\n",
    "\n",
    "Examples are 'A', 'a', 'X', '5'.\n",
    "\n"
   ]
  },
  {
   "cell_type": "code",
   "execution_count": null,
   "id": "2fb49b44",
   "metadata": {},
   "outputs": [],
   "source": [
    "Q4. Which characters have special significance in square brackets when expressing a range, and\n",
    "under what circumstances?\n",
    "\n",
    "Answer.\n",
    "Square brackets ([ ]) designate a character class and match a single character in the string. Inside a character class, only the character class metacharacters \n",
    "(backslash, circumflex anchor and hyphen) have special meaning.\n",
    "\n",
    "You must use a backslash when you use character class metacharacters as literals inside a character class only. Square brackets that are used as literals must \n",
    "always be escaped with backslash, both inside and outside a character class.\n",
    "\n",
    "\n",
    "Metacharacter:                  Meaning\n",
    "\\ (backslash)                  general escape character\n",
    "\n",
    "^ (circumflex anchor           negate the class, if this is the first character in the brackets\n",
    "                               (If ^ is not the first, it is not a metacharacter.)\n",
    "\n",
    "   "
   ]
  },
  {
   "cell_type": "code",
   "execution_count": null,
   "id": "f0bae0d4",
   "metadata": {},
   "outputs": [],
   "source": [
    "Q5. How does compiling a regular-expression object benefit you?\n",
    "\n",
    "Answer.\n",
    "We can combine a regular expression pattern into pattern objects, which can be used for pattern matching. It also helps to search a pattern again without rewriting it.\n",
    "\n"
   ]
  },
  {
   "cell_type": "code",
   "execution_count": 1,
   "id": "89702eee",
   "metadata": {},
   "outputs": [
    {
     "name": "stdout",
     "output_type": "stream",
     "text": [
      "['TP', 'TP']\n",
      "['TP']\n"
     ]
    }
   ],
   "source": [
    "# Example\n",
    "\n",
    "import re\n",
    "pattern=re.compile('TP')\n",
    "result=pattern.findall('TP Tutorialspoint TP')\n",
    "print (result)\n",
    "result2=pattern.findall('TP is most popular tutorials site of India')\n",
    "print (result2)"
   ]
  },
  {
   "cell_type": "code",
   "execution_count": null,
   "id": "86529bb1",
   "metadata": {},
   "outputs": [],
   "source": [
    "Q6. What are some examples of how to use the match object returned by re.match and re.search?\n",
    "\n",
    "Answer.\n",
    "The re.search() and re.match() both are functions of re module in python. These functions are very efficient and fast for searching in strings. \n",
    "The function searches for some substring in a string and returns a match object if found, else it returns none.\n",
    "\n",
    "There is a difference between the use of both functions. Both return the first match of a substring found in the string, but re.match() searches only from the \n",
    "beginning of the string and return match object if found. But if a match of substring is found somewhere in the middle of the string, it returns none. \n",
    "While re.search() searches for the whole string even if the string contains multi-lines and tries to find a match of the substring in all the lines of string.\n",
    "\n",
    "\n",
    "\n"
   ]
  },
  {
   "cell_type": "code",
   "execution_count": null,
   "id": "e0e1bddb",
   "metadata": {},
   "outputs": [],
   "source": [
    "# import re module\n",
    "import re\n",
    " \n",
    "Substring ='string'\n",
    " \n",
    " \n",
    "String1 ='''We are learning regex with geeksforgeeks\n",
    "         regex is very useful for string matching.\n",
    "          It is fast too.'''\n",
    "String2 ='''string We are learning regex with geeksforgeeks\n",
    "         regex is very useful for string matching.\n",
    "          It is fast too.'''\n",
    " \n",
    "# Use of re.search() Method\n",
    "print(re.search(Substring, String1, re.IGNORECASE))\n",
    "# Use of re.match() Method\n",
    "print(re.match(Substring, String1, re.IGNORECASE))\n",
    "\n",
    "# Use of re.search() Method\n",
    "print(re.search(Substring, String2, re.IGNORECASE))\n",
    "# Use of re.match() Method\n",
    "print(re.match(Substring, String2, re.IGNORECASE))\n"
   ]
  },
  {
   "cell_type": "code",
   "execution_count": null,
   "id": "84153a71",
   "metadata": {},
   "outputs": [],
   "source": [
    "Conclusion : \n",
    "\n",
    "re.search() is returning match object and implies that first match found at index 69.\n",
    "re.match() is returning none because match exists in the second line of the string and re.match() only works if the match is found at the beginning of the string. \n",
    "re.IGNORECASE is used to ignore the case sensitivity in the strings. \n",
    "Both re.search() and re.match() returns only the first occurrence of a substring in the string and ignore others. "
   ]
  },
  {
   "cell_type": "code",
   "execution_count": null,
   "id": "295f9222",
   "metadata": {},
   "outputs": [],
   "source": [
    "Q7. What is the difference between using a vertical bar (|) as an alteration and using square brackets\n",
    "    as a character set?\n",
    "    \n",
    "Answer.\n",
    "The special character standing or vertical bar is used for alteration. The standing bar also works as 'or' operation. \n",
    "Parentheses symbol is used to group. For example, (x|y|z)ab match by any string-like, x, y, z, a, b.\n",
    "The vertical bar is a regex \"or\" means \"a or b\" Character class is a shorthand for \"or\". From this explanation. \n",
    "If you want to match an a or an e use [ae] You can also use hyphen to specify a range such as [0-9] or [a-e]26\n",
    "A pipe character ( | ) is used in regular expressions to specify an OR condition. For example, A or B is expressed as A | B. \n",
    "This is interpreted by SPL as a search for the text \"expression\" OR \"with pipe\".\n",
    "\n",
    "What do square brackets mean?\n",
    "Square brackets [ ] are used to enclose a section of writing or printing to separate it from the main text. They can be used like parentheses, \n",
    "but are often used less often in writing for that purpose. One main use of square brackets in writing is in conjunction with the word sic\n"
   ]
  },
  {
   "cell_type": "code",
   "execution_count": null,
   "id": "1c46d829",
   "metadata": {},
   "outputs": [],
   "source": [
    "Q8. In regular-expression search patterns, why is it necessary to use the raw-string indicator (r)? In  \n",
    "    replacement strings?\n",
    "\n",
    "Answer.\n",
    "A raw string is simply one of these representations. If two representations result in the same sequence of characters, \n",
    "they produce equivalent behaviour. The conventional Python string notation \"\\n\" does not generate this string. \n",
    "Instead it generates a one-character string with a newline character.\n",
    "\n",
    "\n",
    "\n",
    "\n"
   ]
  }
 ],
 "metadata": {
  "kernelspec": {
   "display_name": "Python 3",
   "language": "python",
   "name": "python3"
  },
  "language_info": {
   "codemirror_mode": {
    "name": "ipython",
    "version": 3
   },
   "file_extension": ".py",
   "mimetype": "text/x-python",
   "name": "python",
   "nbconvert_exporter": "python",
   "pygments_lexer": "ipython3",
   "version": "3.8.8"
  }
 },
 "nbformat": 4,
 "nbformat_minor": 5
}
