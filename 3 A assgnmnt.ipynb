{
 "cells": [
  {
   "cell_type": "code",
   "execution_count": null,
   "id": "e588ca31",
   "metadata": {},
   "outputs": [],
   "source": [
    "Q1. What is the concept of an abstract superclass?\n",
    "\n",
    "Answer.\n",
    "Inheritance allows programmers to create classes that are built upon existing classes, and this enables a \n",
    "class created through inheritance to inherit the attributes and methods of the parent class. \n",
    "This means that inheritance supports code reusability. The methods or generally speaking the software \n",
    "inherited by a subclass is considered to be reused in the subclass. The relationships of objects or \n",
    "classes through inheritance give rise to a directed graph.\n",
    "\n",
    "The class from which a class inherits is called the parent or superclass. A class which inherits from a \n",
    "superclass is called a subclass, also called heir class or child class. Superclasses are sometimes called \n",
    "ancestors as well. There exists a hierarchical relationship between classes. It's similar to relationships \n",
    " or categorizations that we know from real life."
   ]
  },
  {
   "cell_type": "code",
   "execution_count": 1,
   "id": "e968c5d4",
   "metadata": {},
   "outputs": [
    {
     "name": "stdout",
     "output_type": "stream",
     "text": [
      "<__main__.Robot object at 0x0000021276E0DF10> <class '__main__.Robot'>\n",
      "<__main__.PhysicianRobot object at 0x0000021276E0DE80> <class '__main__.PhysicianRobot'>\n",
      "Hi, I am James\n"
     ]
    }
   ],
   "source": [
    "class Robot:\n",
    "    def __init__(self, name):\n",
    "        self.name = name\n",
    "    def say_hi(self):\n",
    "        print(\"Hi, I am \" + self.name)\n",
    "class PhysicianRobot(Robot):\n",
    "    pass\n",
    "x = Robot(\"Marvin\")\n",
    "y = PhysicianRobot(\"James\")\n",
    "print(x, type(x))\n",
    "print(y, type(y))\n",
    "y.say_hi()"
   ]
  },
  {
   "cell_type": "code",
   "execution_count": null,
   "id": "b4bf05ac",
   "metadata": {},
   "outputs": [],
   "source": [
    "Q2. What happens when a class statement's top level contains a basic assignment statement?\n",
    "\n",
    "Answer. \n",
    "A variable is a string of characters and numbers associated with a piece of information. \n",
    "The assignment operator, denoted by the “=” symbol, is the operator that is used to assign \n",
    "values to variables in Python. The line x=1 takes the known value, 1, and assigns that value \n",
    "to the variable with name “x”.\n",
    "\n",
    "\n",
    "An Assignment statement is a statement that is used to set a value to the variable name in a program.\n",
    "\n",
    "Assignment statement allows a variable to hold different types of values during its program lifespan. \n",
    "Another way of understanding an assignment statement is, it stores a value in the memory location which \n",
    "is denoted by a variable name.\n",
    "\n",
    "\n",
    "Syntax\n",
    "The symbol used in an assignment statement is called as an operator. The symbol is ‘=’.\n",
    "\n",
    "Note: The Assignment Operator should never be used for Equality purpose which is double equal sign ‘==’.\n",
    "\n",
    "The Basic Syntax of Assignment Statement in a programming language is :\n",
    "\n",
    "variable = expression ;\n",
    "\n",
    "where,\n",
    "\n",
    "variable = variable name"
   ]
  },
  {
   "cell_type": "code",
   "execution_count": null,
   "id": "cc5ec815",
   "metadata": {},
   "outputs": [],
   "source": [
    "Q3. Why does a class need to manually call a superclass's __init__ method?\n",
    "\n",
    "Answer. \n",
    "\"If you need something from super's init...\" - This is a very problematic statement because it is not a case of whether the you/the \n",
    "subclass needs \"something\", but whether the base class needs something in order to be a valid base class instance and work correctly. \n",
    "As implementer of the derived class, base class internals are things that you cannot/should not know, and even if you do because you \n",
    "wrote both or internals are documented, design of the base may change in the future and break because of a poorly written derived class. \n",
    "So always ensure that the base class is initialised fully. "
   ]
  },
  {
   "cell_type": "code",
   "execution_count": null,
   "id": "e043b9df",
   "metadata": {},
   "outputs": [],
   "source": [
    "Q4. How can you augment, instead of completely replacing, an inherited method?\n",
    "\n",
    "Answer. \n",
    "I have a problem in inheritance with python.\n",
    "\n",
    "I need to override a python function and whenever that class called it should call the child method not the parent.\n",
    "\n",
    "Here is the code : in file called test_inherit.py\n",
    "    \n",
    "class test_me(object):\n",
    "\n",
    "    def get_uid(self, node):\n",
    "        return uid\n",
    "    \n",
    "    \n",
    "and what i did is : in file called test_new.py\n",
    "\n",
    "from test_inherit import  test_me\n",
    "class test_new(test_me)\n",
    "     def get_uid(self,node):\n",
    "         print \"X is here\",node\n",
    "         return uid\n",
    "    \n",
    "    \n",
    "i need that when i call test_me class or test_new class , it should call the get_uid of test_new class but i don't know how to achieve that ?!\n",
    "\n",
    "It's simple .. i have a project that has this class \"test_me\" which contain a function called get_uid ,, and that fuction is called in the \n",
    "project many times,i want to call the function of the child when ever the parent function is called because i don't want to change the main \n",
    "project ,, i want to do my edits in separate file . \n"
   ]
  },
  {
   "cell_type": "code",
   "execution_count": null,
   "id": "b3ec47e7",
   "metadata": {},
   "outputs": [],
   "source": [
    "Subclassing changes the behavior of the child class but that has no effect on the parent. \n",
    "A class may have many inheritors and it wouldn't be clear which subclass should be called \n",
    "even if you could.\n",
    "\n",
    "You can monkey-patch the parent as in the following example. I camel-cased the class name to\n",
    "help is stand out from variable names. The risk is that code called before the patching gets \n",
    "the old uid method.\n",
    "\n"
   ]
  },
  {
   "cell_type": "code",
   "execution_count": null,
   "id": "4a2e50f6",
   "metadata": {},
   "outputs": [],
   "source": [
    "class TestMe(object):\n",
    "\n",
    "    def get_uid(self, node):\n",
    "        return \"parent\"\n",
    "\n",
    "test1 = TestMe()\n",
    "uid1 = test1.get_uid()\n",
    "\n",
    "# monkey-patch to modify parent class\n",
    "def _my_get_uid(self, node):\n",
    "    print (\"Parent hacked\", node)\n",
    "    return \"hack\"\n",
    "TestMe.get_uid = _my_get_uid\n",
    "\n",
    "test2 = TestMe()\n",
    "\n",
    "assert uid1 == (\"parent\", \"cant change old calls\")\n",
    "assert test1.get_uid(1) == \"hack\", \"existing objects changed\"\n",
    "assert test2.get_uid(1) == \"hack\", \"new objects changed\""
   ]
  },
  {
   "cell_type": "code",
   "execution_count": null,
   "id": "08578f80",
   "metadata": {},
   "outputs": [],
   "source": [
    "Q5. How is the local scope of a class different from that of a function?\n",
    "\n",
    "Answer.\n",
    "Declaring a variable in a class (outside of a function): all class functions can access it (basically a public variable)\n",
    "\n",
    "Declaring a variable inside a function inside a class: only that function can access it (it's in that function's scope)\n",
    "\n",
    "Declaring a variable with self.(variable name) inside a function inside a class: all class functions can access it \n",
    "    (how is this different from global (variable name)?)\n",
    "\n",
    "And since there is no private/protected, everything is public, so everything accessible from inside a class is accessible \n",
    "from outside the class.\n",
    "\n"
   ]
  },
  {
   "cell_type": "code",
   "execution_count": 7,
   "id": "c3c6caf3",
   "metadata": {},
   "outputs": [],
   "source": [
    "class Test:\n",
    "    a = None\n",
    "    b = None\n",
    "\n",
    "    def __init__(self, a):\n",
    "        print (self.a)\n",
    "        self.a = a\n",
    "        self._x = 123\n",
    "        self.__y = 123\n",
    "        b = 'meow'"
   ]
  },
  {
   "cell_type": "code",
   "execution_count": null,
   "id": "917d8580",
   "metadata": {},
   "outputs": [],
   "source": [
    "At the beginning, a and b are only variables defined for the class itself - accessible via Test.a and Test.b and not specific to any instance.\n",
    "\n",
    "When creating an instance of that class (which results in __init__ being executed):\n",
    "\n",
    "print self.a doesn't find an instance variable and thus returns the class variable\n",
    "self.a = a: a new instance variable a is created. This shadows the class variable so self.a will now reference the instance variable; to access the class variable you now have to use Test.a\n",
    "The assignment to self._x creates a new instance variable. It's considered \"not part of the public API\" (aka protected) but technically it has no different behaviour.\n",
    "The assignment to self.__y creates a new instance variable named _Test__y, i.e. its name is mangled so unless you use the mangled name it cannot be accessed from outside the class. This could be used for \"private\" variables.\n",
    "The assignment to b creates a local variable. It is not available from anywhere but the __init__ function as it's not saved in the instance, class or global scope."
   ]
  }
 ],
 "metadata": {
  "kernelspec": {
   "display_name": "Python 3",
   "language": "python",
   "name": "python3"
  },
  "language_info": {
   "codemirror_mode": {
    "name": "ipython",
    "version": 3
   },
   "file_extension": ".py",
   "mimetype": "text/x-python",
   "name": "python",
   "nbconvert_exporter": "python",
   "pygments_lexer": "ipython3",
   "version": "3.8.8"
  }
 },
 "nbformat": 4,
 "nbformat_minor": 5
}
