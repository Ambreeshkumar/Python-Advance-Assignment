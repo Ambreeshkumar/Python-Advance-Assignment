{
 "cells": [
  {
   "cell_type": "code",
   "execution_count": null,
   "id": "bb513971",
   "metadata": {},
   "outputs": [],
   "source": [
    "Q1. What is the purpose of Python's OOP?\n",
    "\n",
    "Answer.\n",
    "In Python, object-oriented Programming (OOPs) is a programming paradigm that uses objects \n",
    "and classes in programming. It aims to implement real-world entities like inheritance, \n",
    "polymorphisms, encapsulation, etc. in the programming. The main concept of OOPs is to \n",
    "bind the data and the functions that work on that together as a single unit so that no \n",
    "other part of the code can access this data. \n",
    "\n",
    "Main Concepts of Object-Oriented Programming (OOPs) \n",
    "* Class\n",
    "* Objects\n",
    "* Polymorphism\n",
    "* Encapsulation\n",
    "* Inheritance\n",
    "\n",
    "Class \n",
    "A class is a collection of objects. A class contains the blueprints or the prototype from which \n",
    "the objects are being created. It is a logical entity that contains some attributes and methods. \n",
    "\n"
   ]
  },
  {
   "cell_type": "code",
   "execution_count": 1,
   "id": "071b36b6",
   "metadata": {},
   "outputs": [],
   "source": [
    "# program to\n",
    "# demonstrate defining\n",
    "# a class\n",
    "  \n",
    "class Dog:\n",
    "    pass"
   ]
  },
  {
   "cell_type": "code",
   "execution_count": null,
   "id": "5c4e5778",
   "metadata": {},
   "outputs": [],
   "source": [
    "Objects:\n",
    "The object is an entity that has a state and behavior associated with it. It may be any real-world object \n",
    "like a mouse, keyboard, chair, table, pen, etc. Integers, strings, floating-point numbers, even arrays,\n",
    "and dictionaries, are all objects. More specifically, any single integer or any single string is an object. \n",
    "The number 12 is an object, the string “Hello, world” is an object, a list is an object that can hold other \n",
    "objects, and so on. You’ve been using objects all along and may not even realize it.\n",
    "\n",
    "An object consists of :\n",
    "State: It is represented by the attributes of an object. It also reflects the properties of an object.\n",
    "Behavior: It is represented by the methods of an object. It also reflects the response of an object to other objects.\n",
    "Identity: It gives a unique name to an object and enables one object to interact with other objects.\n",
    "    \n",
    "    \n",
    "    obj = Dog()\n",
    "    "
   ]
  },
  {
   "cell_type": "code",
   "execution_count": 2,
   "id": "9c365a5d",
   "metadata": {},
   "outputs": [
    {
     "name": "stdout",
     "output_type": "stream",
     "text": [
      "There are many types of birds.\n",
      "Most of the birds can fly but some cannot.\n",
      "There are many types of birds.\n",
      "Sparrows can fly.\n",
      "There are many types of birds.\n",
      "Ostriches cannot fly.\n"
     ]
    }
   ],
   "source": [
    "# Polymorphism\n",
    "# Polymorphism simply means having many forms. For example, we need to determine if \n",
    "# the given species of birds fly or not, using polymorphism we can do this using a single function.\n",
    "\n",
    "\n",
    "class Bird:\n",
    "    \n",
    "    def intro(self):\n",
    "        print(\"There are many types of birds.\")\n",
    "  \n",
    "    def flight(self):\n",
    "        print(\"Most of the birds can fly but some cannot.\")\n",
    "  \n",
    "class sparrow(Bird):\n",
    "    \n",
    "    def flight(self):\n",
    "        print(\"Sparrows can fly.\")\n",
    "  \n",
    "class ostrich(Bird):\n",
    "  \n",
    "    def flight(self):\n",
    "        print(\"Ostriches cannot fly.\")\n",
    "  \n",
    "obj_bird = Bird()\n",
    "obj_spr = sparrow()\n",
    "obj_ost = ostrich()\n",
    "\n",
    "obj_bird.intro()\n",
    "obj_bird.flight()\n",
    "  \n",
    "obj_spr.intro()\n",
    "obj_spr.flight()\n",
    "  \n",
    "obj_ost.intro()\n",
    "obj_ost.flight()\n"
   ]
  },
  {
   "cell_type": "code",
   "execution_count": null,
   "id": "962de2ad",
   "metadata": {},
   "outputs": [],
   "source": [
    "Inheritance\n",
    "Inheritance is the capability of one class to derive or inherit the properties from another class. \n",
    "The class that derives properties is called the derived class or base class and the class from which \n",
    "the properties are being derived is called the base class or parent class. The benefits of inheritance are:\n",
    "\n",
    "It represents real-world relationships well.\n",
    "It provides the reusability of a code. We don’t have to write the same code again and again. Also, it allows \n",
    "us to add more features to a class without modifying it.\n",
    "It is transitive in nature, which means that if class B inherits from another class A, then all the subclasses \n",
    "of B would automatically inherit from class A."
   ]
  },
  {
   "cell_type": "code",
   "execution_count": null,
   "id": "f00c44da",
   "metadata": {},
   "outputs": [],
   "source": [
    "Encapsulation\n",
    "Encapsulation is one of the fundamental concepts in object-oriented programming \n",
    "(OOP). It describes the idea of wrapping data and the methods that work on data \n",
    "within one unit. This puts restrictions on accessing variables and methods directly \n",
    "and can prevent the accidental modification of data. To prevent accidental change, \n",
    "an object’s variable can only be changed by an object’s method. Those types of \n",
    "variables are known as private variables.\n",
    "\n",
    "A class is an example of encapsulation as it encapsulates all the data that is member \n",
    "functions, variables, etc."
   ]
  },
  {
   "cell_type": "code",
   "execution_count": 6,
   "id": "81a2a34a",
   "metadata": {},
   "outputs": [
    {
     "name": "stdout",
     "output_type": "stream",
     "text": [
      "ambreesh kumar\n"
     ]
    }
   ],
   "source": [
    "# Python program to\n",
    "# demonstrate private members\n",
    "  \n",
    "# Creating a Base class\n",
    "class Base:\n",
    "    def __init__(self):\n",
    "        self.a = \"ambreesh kumar\"\n",
    "        self.__c = \"ambreesh kumar\"\n",
    "  \n",
    "# Creating a derived class\n",
    "class Derived(Base):\n",
    "    def __init__(self):\n",
    "  \n",
    "        # Calling constructor of\n",
    "        # Base class\n",
    "        Base.__init__(self)\n",
    "        print(\"Calling private member of base class: \")\n",
    "        print(self.__c)\n",
    "  \n",
    "  \n",
    "# Driver code\n",
    "obj1 = Base()\n",
    "print(obj1.a)\n",
    "\n",
    "# Uncommenting print(obj1.c) will\n",
    "# raise an AttributeError\n",
    "  \n",
    "# Uncommenting obj2 = Derived() will\n",
    "# also raise an AtrributeError as\n",
    "# private member of base class\n",
    "# is called inside derived class"
   ]
  },
  {
   "cell_type": "code",
   "execution_count": null,
   "id": "d841acdf",
   "metadata": {},
   "outputs": [],
   "source": [
    "Q2. Where does an inheritance search look for an attribute?\n",
    "\n",
    "Answer.\n",
    "All of these objects are namespaces (packages of variables), and the inheritance \n",
    "search is simply a search of the tree from bottom to top looking for the lowest \n",
    "occurrence of an attribute name. Code implies the shape of such trees.\n"
   ]
  },
  {
   "cell_type": "code",
   "execution_count": null,
   "id": "a9eac81d",
   "metadata": {},
   "outputs": [],
   "source": [
    "Q3 .How do you distinguish between a class object and an instance object?\n",
    "\n",
    "Answer.\n",
    "class:\n",
    "1 = Class is used as a template for declaring and \n",
    "    creating the objects. \n",
    "2 = When a class is created, no memory is allocated.   \n",
    "3 = The class has to be declared only once.                \n",
    "4 = A class cannot be manipulated as they are not\n",
    "    available in the memory.  \n",
    "5 = A class is a logical entity.\n",
    "6 = It is declared with the class keyword\n",
    "7 = Class does not contain any values which \n",
    "    can be associated with the field.\n",
    "    \n",
    "    \n",
    "    \n",
    "Object:\n",
    "1 = An object is an instance of a class.\n",
    "2 = Objects are allocated memory space whenever they are created.\n",
    "3 = An object is created many times as per requirement.\n",
    "4 = Objects can be manipulated.\n",
    "5 = An object is a physical entity.\n",
    "6 = It is created with a class name in C++ and \n",
    "    with the new keywords in Java.\n",
    "7 = Each object has its own values, which are\n",
    "    associated with it."
   ]
  },
  {
   "cell_type": "code",
   "execution_count": null,
   "id": "14fd6bf6",
   "metadata": {},
   "outputs": [],
   "source": [
    "Q4. What makes the first argument in a class’s method function special?\n",
    "\n",
    "Answer.\n",
    "self represents the instance of the class. By using the “self” keyword we can access the \n",
    "attributes and methods of the class in python. It binds the attributes with the given arguments.\n",
    "The reason you need to use self. is because Python does not use the @ syntax to refer to \n",
    "instance attributes. Python decided to do methods in a way that makes the instance to which the\n",
    "method belongs be passed automatically, but not received automatically: the first parameter of \n",
    "methods is the instance the method is called on.\n",
    "    \n"
   ]
  },
  {
   "cell_type": "code",
   "execution_count": 7,
   "id": "1fa241b1",
   "metadata": {},
   "outputs": [
    {
     "name": "stdout",
     "output_type": "stream",
     "text": [
      "Address of self =  1830976461360\n",
      "Address of class object =  1830976461360\n"
     ]
    }
   ],
   "source": [
    "#it is clearly seen that self and obj is referring to the same object\n",
    " \n",
    "class check:\n",
    "    def __init__(self):\n",
    "        print(\"Address of self = \",id(self))\n",
    " \n",
    "obj = check()\n",
    "print(\"Address of class object = \",id(obj))\n"
   ]
  },
  {
   "cell_type": "code",
   "execution_count": null,
   "id": "d4667df5",
   "metadata": {},
   "outputs": [],
   "source": [
    "Q5. What is the purpose of the __init__ method?\n",
    "\n",
    "Answer.\n",
    "The __init__ method is similar to constructors in C++ and Java. Constructors are used to initialize \n",
    "the object’s state. The task of constructors is to initialize(assign values) to the data members of \n",
    "the class when an object of class is created. Like methods, a constructor also contains collection \n",
    "of statements(i.e. instructions) that are executed at time of Object creation. It is run as soon \n",
    "as an object of a class is instantiated. The method is useful to do any initialization you want to \n",
    "do with your object.\n"
   ]
  },
  {
   "cell_type": "code",
   "execution_count": 1,
   "id": "9eab5dd0",
   "metadata": {},
   "outputs": [
    {
     "name": "stdout",
     "output_type": "stream",
     "text": [
      "Hello, my name is Nikhil\n"
     ]
    }
   ],
   "source": [
    "# A Sample class with init method  \n",
    "class Person:  \n",
    "      \n",
    "    # init method or constructor   \n",
    "    def __init__(self, name):  \n",
    "        self.name = name  \n",
    "      \n",
    "    # Sample Method   \n",
    "    def say_hi(self):  \n",
    "        print('Hello, my name is', self.name)  \n",
    "      \n",
    "p = Person('Nikhil')  \n",
    "p.say_hi()  "
   ]
  },
  {
   "cell_type": "code",
   "execution_count": null,
   "id": "280d4854",
   "metadata": {},
   "outputs": [],
   "source": [
    "Q6. What is the process for creating a class instance?\n",
    "\n",
    "Answer.\n",
    "The new operator instantiates a class by allocating memory for a new object.\n",
    "The phrase \"instantiating a class\" means the same thing as \"creating an object\"; \n",
    "you can think of the two as being synonymous. When you create an object, you are \n",
    "creating an instance of a class, therefore \"instantiating\" a class.\n",
    "The new operator requires a single, postfix argument: a call to a constructor. \n",
    "The name of the constructor provides the name of the class to instantiate. \n",
    "The constructor initializes the new object.\n",
    "\n",
    "The new operator returns a reference to the object it created. Often, this reference \n",
    "is assigned to a variable of the appropriate type. If the reference is not assigned \n",
    "to a variable, the object is unreachable after the statement in which the new operator \n",
    "appears finishes executing."
   ]
  },
  {
   "cell_type": "code",
   "execution_count": null,
   "id": "a10d93e1",
   "metadata": {},
   "outputs": [],
   "source": [
    "Q7. What is the process for creating a class?\n",
    "\n",
    "Answer.\n"
   ]
  },
  {
   "cell_type": "code",
   "execution_count": 9,
   "id": "0e11d0f2",
   "metadata": {},
   "outputs": [
    {
     "name": "stdout",
     "output_type": "stream",
     "text": [
      "5\n",
      "john\n",
      "45\n",
      "hello my name is john\n",
      "Hello my name is John\n"
     ]
    }
   ],
   "source": [
    "# create a class, use the key word class:\n",
    "class MyClass:\n",
    "    x=5\n",
    "# here i use only class key word  to create new class:\n",
    "\n",
    "\n",
    "\n",
    "# now we can the class named MyClass to create object:\n",
    "p1 = MyClass()\n",
    "print(p1.x)\n",
    "    \n",
    "# Create a class named Person, use the __init__() function to assign values for name and age:     \n",
    "\n",
    "class person:\n",
    "    def __init__(self, name, age):\n",
    "        self.name = name\n",
    "        self.age = age\n",
    "        \n",
    "p1 = person(\"john\",45)\n",
    "print(p1.name)\n",
    "print(p1.age)\n",
    "\n",
    " \n",
    "# Objects can also contain methods. Methods in objects are functions \n",
    "# that belong to the object.\n",
    "# Let us create a method in the Person class:  \n",
    "\n",
    "class Person:\n",
    "    def __init__(self, name, age):\n",
    "        self.name = name\n",
    "        self.age = age\n",
    "    \n",
    "    def Myfunc(self):\n",
    "        print(\"hello my name is \" + self.name)\n",
    "\n",
    "p1 = Person(\"john\", 89)\n",
    "p1.Myfunc()\n",
    "\n",
    "\n",
    "\n",
    "\n",
    "\n",
    "# The self parameter is a reference to the current instance of the class, \n",
    "# and is used to access variables that belongs to the class.\n",
    "class Person:\n",
    "  def __init__(mysillyobject, name, age):\n",
    "    mysillyobject.name = name\n",
    "    mysillyobject.age = age\n",
    "\n",
    "  def myfunc(abc):\n",
    "    print(\"Hello my name is \" + abc.name)\n",
    "\n",
    "p1 = Person(\"John\", 36)\n",
    "p1.myfunc()\n"
   ]
  },
  {
   "cell_type": "code",
   "execution_count": null,
   "id": "f55d6c38",
   "metadata": {},
   "outputs": [],
   "source": [
    "Q8. How would you define the superclasses of a class?\n",
    "\n",
    "Answer.\n",
    "One of the important OOP features is Inheritance in Python. When a class inherits some or all of \n",
    "the behaviors from another class is known as Inheritance. In such a case, the inherited class is \n",
    "the subclass and the latter class is the parent class. \n",
    "In an inherited subclass, a parent class can be referred to with the use of the super() function. \n",
    "The super function returns a temporary object of the superclass that allows access to all of its \n",
    "methods to its child class.\n",
    "\n",
    "\n",
    "Furthermore, The benefits of using a super function are:-  \n",
    "\n",
    "Need not remember or specify the parent class name to access its methods. This function can be used \n",
    "both in single and multiple inheritances.\n",
    "This implements modularity (isolating changes) and code reusability as there is no need to rewrite the entire function.\n",
    "Super function in Python is called dynamically because Python is a dynamic language unlike other languages.\n"
   ]
  },
  {
   "cell_type": "code",
   "execution_count": 14,
   "id": "83eb9ae5",
   "metadata": {},
   "outputs": [
    {
     "name": "stdout",
     "output_type": "stream",
     "text": [
      "It is a mammal.\n",
      "Has legs and tail\n"
     ]
    }
   ],
   "source": [
    "# Python program to demonstrate\n",
    "# super function\n",
    " \n",
    " \n",
    "class Animals:\n",
    "     \n",
    "    # Initializing constructor\n",
    "    def __init__(self):\n",
    "        self.legs = 4\n",
    "        self.domestic = True\n",
    "        self.tail = True\n",
    "        self.mammals = True\n",
    "     \n",
    "    def isMammal(self):\n",
    "        if self.mammals:\n",
    "            print(\"It is a mammal.\")\n",
    "    def isDomestic(self):\n",
    "        if self.domestic:\n",
    "            print(\"It is a domestic animal.\")\n",
    "     \n",
    "class Dogs(Animals):\n",
    "    def __init__(self):\n",
    "        super().__init__()\n",
    " \n",
    "    def isMammal(self):\n",
    "        super().isMammal()\n",
    " \n",
    "class Horses(Animals):\n",
    "    def __init__(self):\n",
    "        super().__init__()\n",
    " \n",
    "    def hasTailandLegs(self):\n",
    "        if self.tail and self.legs == 4:\n",
    "            print(\"Has legs and tail\")\n",
    " \n",
    "# Driver code\n",
    "Tom = Dogs()\n",
    "Tom.isMammal()       \n",
    "Bruno = Horses()\n",
    "Bruno.hasTailandLegs()            "
   ]
  },
  {
   "cell_type": "code",
   "execution_count": null,
   "id": "8f6a4c19",
   "metadata": {},
   "outputs": [],
   "source": []
  }
 ],
 "metadata": {
  "kernelspec": {
   "display_name": "Python 3",
   "language": "python",
   "name": "python3"
  },
  "language_info": {
   "codemirror_mode": {
    "name": "ipython",
    "version": 3
   },
   "file_extension": ".py",
   "mimetype": "text/x-python",
   "name": "python",
   "nbconvert_exporter": "python",
   "pygments_lexer": "ipython3",
   "version": "3.8.8"
  }
 },
 "nbformat": 4,
 "nbformat_minor": 5
}
