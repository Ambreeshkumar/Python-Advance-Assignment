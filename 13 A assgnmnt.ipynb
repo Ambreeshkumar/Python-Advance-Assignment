{
 "cells": [
  {
   "cell_type": "code",
   "execution_count": null,
   "id": "cc48e326",
   "metadata": {},
   "outputs": [],
   "source": [
    "Q1. Can you create a programme or function that employs both positive and negative indexing? Is\n",
    "    there any repercussion if you do so?\n",
    "    \n",
    "Answer.\n"
   ]
  },
  {
   "cell_type": "code",
   "execution_count": 13,
   "id": "5ade6b37",
   "metadata": {},
   "outputs": [
    {
     "name": "stdout",
     "output_type": "stream",
     "text": [
      "r\n"
     ]
    }
   ],
   "source": [
    "# this program able to positive indexing in the string:\n",
    "def positive(string,index_num ):\n",
    "    print(string[index_num])\n",
    "    \n",
    "a = (\" ambureesh \")\n",
    "positive(a,5)"
   ]
  },
  {
   "cell_type": "code",
   "execution_count": 16,
   "id": "1ebd8d27",
   "metadata": {},
   "outputs": [
    {
     "name": "stdout",
     "output_type": "stream",
     "text": [
      "e\n"
     ]
    }
   ],
   "source": [
    "# this program able to nagative inedxing in the string\n",
    "def nagitive(string,index_num):\n",
    "    print(string[index_num])\n",
    "    \n",
    "# create a string:\n",
    "a = (\" ambureesh \")\n",
    "\n",
    "# and call the function:\n",
    "nagitive(a,-5)"
   ]
  },
  {
   "cell_type": "code",
   "execution_count": null,
   "id": "86222809",
   "metadata": {},
   "outputs": [],
   "source": [
    "Q2. What is the most effective way of starting with 1,000 elements in a Python list? Assume that all\n",
    "    elements should be set to the same value.\n",
    "    \n",
    "Answer. \n",
    "\n",
    "\n"
   ]
  },
  {
   "cell_type": "code",
   "execution_count": null,
   "id": "424f3bf5",
   "metadata": {},
   "outputs": [],
   "source": [
    "Q3. How do you slice a list to get any other part while missing the rest? (For example, suppose you\n",
    "    want to make a new list with the elements first, third, fifth, seventh, and so on.)\n",
    "\n",
    "Answer.\n",
    "Indexing\n",
    "Before discussing slice notation, we need to have a good grasp of indexing for sequential types.\n",
    "\n",
    "In Python, list is akin to arrays in other scripting languages(Ruby, JavaScript, PHP). It allows you to store an \n",
    "enumerated set of items in one place and access an item by its position – index.\n",
    "\n",
    "\n",
    "Negative indexes\n",
    "Using indexing we can easily get any element by its position. This is handy if we use position from the head of a list. \n",
    "But what if we want to take the last element of a list? Or the penultimate element? In this case, we want to enumerate \n",
    "elements from the tail of a list.\n",
    "\n",
    "To address this requirement there is negative indexing. So, instead of using indexes from zero and above, we can use \n",
    "indexes from -1 and below.\n",
    "\n",
    "\n"
   ]
  },
  {
   "cell_type": "code",
   "execution_count": 19,
   "id": "b188a483",
   "metadata": {},
   "outputs": [
    {
     "name": "stdout",
     "output_type": "stream",
     "text": [
      "ambreesh\n",
      "[8, 7, 'kumar', 6, 5, 'ambreesh', 4, 3, 2, 1]\n"
     ]
    }
   ],
   "source": [
    "# positiv sliceing:\n",
    "list = [1,2,3,4,\"ambreesh\",5,6,\"kumar\",7,8]\n",
    "print(list[4])\n",
    "\n",
    "\n",
    "# nagitive slicing and revarce:\n",
    "list = [1,2,3,4,\"ambreesh\",5,6,\"kumar\",7,8]\n",
    "print(list[-1::-1])\n",
    "\n"
   ]
  },
  {
   "cell_type": "code",
   "execution_count": null,
   "id": "dfcb924a",
   "metadata": {},
   "outputs": [],
   "source": [
    "Q4. Explain the distinctions between indexing and slicing.\n",
    "\n",
    "Answer.\n",
    "\n",
    "Slicing:\n",
    "Slicing is used to access one or more elements from the given sequence. The general syntax is as shown below:\n",
    "As mentioned earlier, the slicing includes lower bound (start index position) but excludes upper bound (stop index position).\n",
    "\n",
    "In the below code, my_list[0:8:2], the start index is 0, the stop index is 8, and a step size 2. This translates into extract \n",
    "all the elements from index position 0 to 8 (excluding element at index 8) with a step size of 2. Here is the simplest example using slicing. \n",
    "We will get into more examples shortly.\n",
    "\n",
    "\n",
    "\n",
    "slice()\n",
    "The above example made use of the common approach of slicing using the square brackets [] and colon. There is also another way to do slicing \n",
    "using the built-in slice() function. Refer to the example below for the same. This achieves the same result as my_list[0:8:2]. Then, what is \n",
    "the use of the slice() function?\n",
    "\n",
    "\n",
    "my_list = [1, 2, 3, 4, 5, 6, 7, 8, 9, 10]\n",
    "s_obj = slice(0,8,2)\n",
    "my_list[s_obj]\n",
    "\n",
    "output:\n",
    "[1,3,5,7]\n",
    "\n",
    "\n",
    "If both slicing notation and slice() function both give same results, then, what is the use of the slice() function\n",
    "\n"
   ]
  },
  {
   "cell_type": "code",
   "execution_count": null,
   "id": "17f19a64",
   "metadata": {},
   "outputs": [],
   "source": [
    "Q5. What happens if one of the slicing expression's indexes is out of range?\n",
    "\n",
    "Answer.\n",
    "It might be surprising at first, but it makes sense when you think about it. Indexing returns a single item, but slicing \n",
    "returns a subsequence of items. So when you try to index a nonexistent value, there's nothing to return. But when you slice a \n",
    "sequence outside of bounds, you can still return an empty sequence.\n",
    "\n",
    "Part of what's confusing here is that strings behave a little differently from lists. Look what happens when you do the same thing to a list:\n",
    "\n",
    "\n"
   ]
  },
  {
   "cell_type": "code",
   "execution_count": null,
   "id": "720d3d5c",
   "metadata": {},
   "outputs": [],
   "source": [
    "Q6. If you pass a list to a function, and if you want the function to be able to change the values of the\n",
    "     list—so that the list is different after the function returns—what action should you avoid?\n",
    "    \n",
    "Answer.\n",
    "\n",
    "If you assign something to the variable list_arg, it will from then on point to the new value. The value it pointed to before that assignment \n",
    "(your original list) will stay unchanged.\n",
    "\n",
    "If you, instead, assign something to elements of that list, this will change the original list:\n",
    "    \n",
    "    \n"
   ]
  },
  {
   "cell_type": "code",
   "execution_count": null,
   "id": "f41a3bc7",
   "metadata": {},
   "outputs": [],
   "source": [
    "Q7. What is the concept of an unbalanced matrix?\n",
    "\n",
    "Answer.\n",
    "Given a matrix mat[][] of dimensions NxM, the task is to check whether the given matrix is balanced or not. Print “Balanced” if it is a balanced matrix else print “Unbalanced”. \n",
    "\n",
    "A matrix is balanced if all cells in the matrix are balanced and a cell of the matrix is balanced if the number of cells in that matrix that are adjacent to that cell is strictly \n",
    "greater than the value written in this cell. \n",
    "Adjacent cell means cells in the top, down, left, and right cell of each cell if it exists. \n",
    "\n",
    "Traverse the given matrix mat[][].\n",
    "For each cell of the matrix check if all the adjacent cells i.e., mat[i+1][j], mat[i][j+1], mat[i-1][j], mat[i][j-1] are strictly smaller than the current cell.\n",
    "For the corner cells of the matrix, there are only two adjacent cells i.e., mat[i+1][j] and mat[i][j+1] check if all these adjacent cells are strictly smaller than the corner cell.\n",
    "For border cell of the matrix, there are 3 adjacent cells i.e., mat[i-1][j], mat[i+1][j], and mat[i][j+1] check if all these adjacent cells are strictly smaller than the border cell.\n",
    "If all the above conditions are true for all the cells of the matrix then print “Balanced” else print “Unbalanced”.\n",
    "\n",
    "\n",
    "\n"
   ]
  },
  {
   "cell_type": "code",
   "execution_count": null,
   "id": "2cf98d85",
   "metadata": {},
   "outputs": [],
   "source": [
    "Q8. Why is it necessary to use either list comprehension or a loop to create arbitrarily large matrices?\n",
    "\n",
    "Answer.\n",
    "List comprehensions are often not only more readable but also faster than using “for loops.” They can simplify your code, but if you put too much logic inside, \n",
    "they will instead become harder to read and understand.\n",
    "List comprehensions are used for creating new lists from other iterables like tuples, strings, arrays, lists, etc. A list comprehension consists of brackets \n",
    "containing the expression, which is executed for each element along with the for loop to iterate over each element.\n",
    "\n",
    "List comprehensions are faster than for loops to create lists. But, this is because we are creating a list by appending new elements to it at each iteration.\n",
    "\n",
    "If the iteration is being done for its side effect ( as it is in your \"print\" example ), then a loop is clearer. If the iteration is executed in order to build \n",
    "a composite value, then list comprehensions are usually more readable\n",
    "\n",
    "\n"
   ]
  },
  {
   "cell_type": "code",
   "execution_count": null,
   "id": "2364d72b",
   "metadata": {},
   "outputs": [],
   "source": []
  }
 ],
 "metadata": {
  "kernelspec": {
   "display_name": "Python 3",
   "language": "python",
   "name": "python3"
  },
  "language_info": {
   "codemirror_mode": {
    "name": "ipython",
    "version": 3
   },
   "file_extension": ".py",
   "mimetype": "text/x-python",
   "name": "python",
   "nbconvert_exporter": "python",
   "pygments_lexer": "ipython3",
   "version": "3.8.8"
  }
 },
 "nbformat": 4,
 "nbformat_minor": 5
}
