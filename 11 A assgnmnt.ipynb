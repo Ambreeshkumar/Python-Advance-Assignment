{
 "cells": [
  {
   "cell_type": "code",
   "execution_count": null,
   "id": "15a8b702",
   "metadata": {},
   "outputs": [],
   "source": [
    "Q1. What is the concept of a metaclass?\n",
    "\n",
    "Answer.\n",
    "A metaclass in Python is a class of a class that defines how a class behaves. \n",
    "A class is itself an instance of a metaclass. A class in Python defines how the \n",
    "instance of the class will behave. In order to understand metaclasses well, one \n",
    "needs to have prior experience working with Python classes. Before we dive deeper into metaclasses, \n",
    "let's get a few concepts out of the way.\n",
    "\n",
    "\n",
    "A Class is also an object, and just like any other object, it’s an instance of something called Metaclass. \n",
    "A special class type creates these Class objects. The type class is default metaclass which is responsible \n",
    "for making classes. In the above example, if we try to find out the type of Student class, it comes out to be a type. \n"
   ]
  },
  {
   "cell_type": "code",
   "execution_count": null,
   "id": "954a23ff",
   "metadata": {},
   "outputs": [],
   "source": []
  },
  {
   "cell_type": "code",
   "execution_count": 1,
   "id": "42492af1",
   "metadata": {},
   "outputs": [
    {
     "name": "stdout",
     "output_type": "stream",
     "text": [
      "Type of Student class is: <class 'type'>\n"
     ]
    }
   ],
   "source": [
    "class Student:\n",
    "    pass\n",
    " \n",
    "# Print type of Student class\n",
    "print(\"Type of Student class is:\", type(Student))"
   ]
  },
  {
   "cell_type": "code",
   "execution_count": 3,
   "id": "7766df51",
   "metadata": {},
   "outputs": [
    {
     "name": "stdout",
     "output_type": "stream",
     "text": [
      "Type of Test class:  <class 'type'>\n",
      "Type of test_obj:  <class '__main__.Test'>\n",
      "This is inherited method!\n",
      "This is Test class method!\n",
      "atul\n"
     ]
    }
   ],
   "source": [
    "def test_method(self):\n",
    "    print(\"This is Test class method!\")\n",
    " \n",
    "# creating a base class\n",
    "class Base:\n",
    "    def myfun(self):\n",
    "        print(\"This is inherited method!\")\n",
    " \n",
    "# Creating Test class dynamically using\n",
    "# type() method directly\n",
    "Test = type('Test', (Base, ), dict(x=\"atul\", my_method=test_method))\n",
    " \n",
    "# Print type of Test\n",
    "print(\"Type of Test class: \", type(Test))\n",
    " \n",
    "# Creating instance of Test class\n",
    "test_obj = Test()\n",
    "print(\"Type of test_obj: \", type(test_obj))\n",
    "# calling inherited method\n",
    "test_obj.myfun()\n",
    " \n",
    "# calling Test class method\n",
    "test_obj.my_method()\n",
    " \n",
    "# printing variable\n",
    "print(test_obj.x)     "
   ]
  },
  {
   "cell_type": "code",
   "execution_count": null,
   "id": "dea735f1",
   "metadata": {},
   "outputs": [],
   "source": [
    "Q2. What is the best way to declare a class as metaclass?\n",
    "\n",
    "Answer.\n",
    "The key concept of python is objects. Almost everything in python is an object, which includes functions and as well as classes. \n",
    "As a result, functions and classes can be passed as arguments, can exist as an instance, and so on. Above all, the concept of \n",
    "objects let the classes in generating other classes.\n",
    "\n",
    "The classes that generate other classes are defined as metaclasses. In this section, we will discuss the concept of metaclasses \n",
    "and the specific ways to use them. In this section, \n",
    "\n",
    "A class defines the properties and available actions of its object and also it acts as a factory for object creation. Let’s \n",
    "understand the process by creating a class using type directly. The exact class that is used for class instantiation is called type. \n",
    "Normally, we define a class using a special syntax called the class keyword, but this syntax is a substitute for type class\n",
    "\n",
    "\n",
    "Metaclasses are classes that inherit directly from type. The method that custom metaclasses should implement is the __new__ method. \n",
    "The arguments mentioned in the __new__  method of metaclasses reflects in the __new__ method of type class. It has four positional arguments. \n",
    "They are as follows:\n"
   ]
  },
  {
   "cell_type": "code",
   "execution_count": 5,
   "id": "60551749",
   "metadata": {},
   "outputs": [
    {
     "name": "stdout",
     "output_type": "stream",
     "text": [
      "clsname: C\n",
      "superclasses: (<class 'object'>,)\n",
      "attrdict: {}\n",
      "class type: <class '__main__.MetaCls'>\n"
     ]
    }
   ],
   "source": [
    "# it's a symplest way to create mataclass:\n",
    "\n",
    "class MetaCls(type):\n",
    "    \"\"\"A sample metaclass without any functionality\"\"\"\n",
    "    def __new__(cls, clsname, superclasses, attributedict):\n",
    "        print(\"clsname:\", clsname)\n",
    "        print(\"superclasses:\", superclasses)\n",
    "        print(\"attrdict:\", attributedict)\n",
    "        return super(MetaCls, cls).__new__(cls, \\\n",
    "                       clsname, superclasses, attributedict)\n",
    "  \n",
    "C = MetaCls('C', (object, ), {})\n",
    "print(\"class type:\", type(C))"
   ]
  },
  {
   "cell_type": "code",
   "execution_count": null,
   "id": "f739ddf3",
   "metadata": {},
   "outputs": [],
   "source": [
    "Q3. How do class decorators overlap with metaclasses for handling classes?\n",
    "\n",
    "Answer.\n",
    "Just like with metaclasses, because the decorator returns the original class, instances are made from it, not from a wrapper object. \n",
    "In fact, instance creation is not intercepted at all. ... Decorators can be used to manage both instances and classes, and they \n",
    "intersect with metaclasses in the second of these roles.\n",
    "\n"
   ]
  },
  {
   "cell_type": "code",
   "execution_count": null,
   "id": "ec7d2bfd",
   "metadata": {},
   "outputs": [],
   "source": [
    "Q4. How do class decorators overlap with metaclasses for handling instances?\n",
    "\n",
    "Answer.\n",
    "In this specific case—adding methods to a class when it's created—the choice \n",
    "between metaclasses and decorators is somewhat arbitrary. Decorators can be \n",
    "used to manage both instances and classes, and they intersect with metaclasses \n",
    "in the second of these roles.\n"
   ]
  }
 ],
 "metadata": {
  "kernelspec": {
   "display_name": "Python 3",
   "language": "python",
   "name": "python3"
  },
  "language_info": {
   "codemirror_mode": {
    "name": "ipython",
    "version": 3
   },
   "file_extension": ".py",
   "mimetype": "text/x-python",
   "name": "python",
   "nbconvert_exporter": "python",
   "pygments_lexer": "ipython3",
   "version": "3.8.8"
  }
 },
 "nbformat": 4,
 "nbformat_minor": 5
}
