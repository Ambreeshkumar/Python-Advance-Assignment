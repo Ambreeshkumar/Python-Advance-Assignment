{
 "cells": [
  {
   "cell_type": "code",
   "execution_count": null,
   "id": "44449413",
   "metadata": {},
   "outputs": [],
   "source": [
    "Q1. Does assigning a value to a string's indexed character violate Python's string immutability?\n",
    "\n",
    "Answer.\n",
    "One final thing that makes strings different from some other Python collection types is that you \n",
    "are not allowed to modify the individual characters in the collection. It is tempting to use the \n",
    "[] operator on the left side of an assignment, with the intention of changing a character in a string\n",
    "\n"
   ]
  },
  {
   "cell_type": "code",
   "execution_count": null,
   "id": "fc046cb4",
   "metadata": {},
   "outputs": [],
   "source": [
    "Q2. Does using the += operator to concatenate strings violate Python's string immutability? Why or\n",
    "    why not?\n",
    "    \n",
    "Answer.\n",
    "Immutable Definition:\n",
    "Immutable is the when no change is possible over time. In Python, if the value of an object cannot be changed over time, \n",
    "then it is known as immutable. Once created, the value of these objects is permanent.\n",
    "Strings are not mutable in Python. Strings are a immutable data types which means that its value cannot be updated.\n",
    "\n"
   ]
  },
  {
   "cell_type": "code",
   "execution_count": null,
   "id": "9f952d2c",
   "metadata": {},
   "outputs": [],
   "source": [
    "Q3. In Python, how many different ways are there to index a character?\n",
    "\n",
    "Answer.\n",
    "Indexing means referring to an element of an iterable by its position within the iterable. \n",
    "Each of a string’s characters corresponds to an index number and each character can be \n",
    "accessed using their index number.\n",
    "\n",
    "We can access characters in a String in Two ways :\n",
    "\n",
    "Accessing Characters by Positive Index Number\n",
    "Accessing Characters by Negative Index Number\n",
    "\n",
    "Accessing Characters by Positive Index Number:\n",
    "In this type of Indexing, we pass a Positive index(which we want to access) in square brackets. \n",
    "The index number start from index number 0 (which denotes the first character of a string).\n",
    "\n",
    "\n",
    " Accessing Characters by Negative Index Number :\n",
    "In this type of Indexing, we pass the Negative index(which we want to access) in square brackets. \n",
    "Here the index number starts from index number -1 (which denotes the last character of a string).\n",
    "\n",
    "\n"
   ]
  },
  {
   "cell_type": "code",
   "execution_count": null,
   "id": "80e86880",
   "metadata": {},
   "outputs": [],
   "source": [
    "Q4.What is the relationship between indexing and slicing?\n",
    "\n",
    "Answer.\n",
    "Indexing” means referring to an element of an iterable by its position within the iterable. “Slicing” means getting a subset of elements from an iterable based on their indices.\n",
    "Slicing in Python is a feature that enables accessing parts of sequence. In slicing string, we create a substring, which is essentially a string that exists within another string. \n",
    "We use slicing when we require a part of string and not the complete string.\n",
    "\n"
   ]
  },
  {
   "cell_type": "code",
   "execution_count": 1,
   "id": "a8c5f92f",
   "metadata": {},
   "outputs": [
    {
     "name": "stdout",
     "output_type": "stream",
     "text": [
      "amb\n",
      "mr\n",
      "!rmkhe\n"
     ]
    }
   ],
   "source": [
    "# declaring the string\n",
    "str =\"ambreesh kumar !\"\n",
    "  \n",
    "# slicing using indexing sequence \n",
    "print(str[: 3]) \n",
    "print(str[1 : 5 : 2]) \n",
    "print(str[-1 : -12 : -2])"
   ]
  },
  {
   "cell_type": "code",
   "execution_count": null,
   "id": "9a729a4e",
   "metadata": {},
   "outputs": [],
   "source": [
    "Indexing means referring to an element of an iterable by its position within the iterable. Each of a string’s characters corresponds to an index number and each character can be accessed using their index number.\n",
    "\n",
    "We can access characters in a String in Two ways :\n",
    "\n",
    "Accessing Characters by Positive Index Number\n",
    "Accessing Characters by Negative Index Number\n",
    "\n",
    "\n"
   ]
  },
  {
   "cell_type": "code",
   "execution_count": 2,
   "id": "7df122f9",
   "metadata": {},
   "outputs": [
    {
     "name": "stdout",
     "output_type": "stream",
     "text": [
      "a\n",
      "s\n",
      "u\n"
     ]
    }
   ],
   "source": [
    "# declaring the string\n",
    "str = \"ambreesg kumar !\"\n",
    "  \n",
    "# accessing the character of str at 0th index\n",
    "print(str[0])\n",
    "  \n",
    "# accessing the character of str at 6th index\n",
    "print(str[6])\n",
    "  \n",
    "# accessing the character of str at 10th index\n",
    "print(str[10])"
   ]
  },
  {
   "cell_type": "code",
   "execution_count": null,
   "id": "53d52ba1",
   "metadata": {},
   "outputs": [],
   "source": [
    "Q5. What is an indexed character's exact data type? What is the data form of a slicing-generated\n",
    "    substring?\n",
    "    \n",
    "Answer.\n",
    "ndexing allows you to access individual characters in a string directly by using a numeric value. String indexing is zero-based: the first character in the string \n",
    "has index 0, the next is 1, and so on\n",
    "The indexing operator (Python uses square brackets to enclose the index) selects a single character. The characters are accessed by their position or index value.\n",
    "\n",
    "index values\n",
    "It is also the case that the positions are named from right to left using negative numbers where -1 is the rightmost index and so on. Note that the character at index 6 (or -8) is the blank character.\n",
    "\n"
   ]
  },
  {
   "cell_type": "code",
   "execution_count": 3,
   "id": "0fcaf419",
   "metadata": {},
   "outputs": [
    {
     "name": "stdout",
     "output_type": "stream",
     "text": [
      "t\n",
      "e\n"
     ]
    }
   ],
   "source": [
    "school = \"Luther College\"\n",
    "m = school[2]\n",
    "print(m)\n",
    "\n",
    "lastchar = school[-1]\n",
    "print(lastchar)\n"
   ]
  },
  {
   "cell_type": "code",
   "execution_count": null,
   "id": "fa1ac0b0",
   "metadata": {},
   "outputs": [],
   "source": [
    "Python String slicing always follows this rule: s[:i] + s[i:] == s for any index 'i'. \n",
    "All these parameters are optional – start_pos default value is 0, the end_pos default value is the \n",
    "length of string and step default value is 1. Let's look at some simple examples of string slice function \n",
    "to create substring.\n",
    "\n",
    "The slicing starts with the start_pos index (included) and ends at end_pos index (excluded). The step parameter \n",
    "is used to specify the steps to take from start to end index.\n",
    "\n",
    "Python String slicing always follows this rule: s[:i] + s[i:] == s for any index ‘i’.\n",
    "\n",
    "All these parameters are optional – start_pos default value is 0, the end_pos default value is the length of \n",
    "string and step default value is 1.\n",
    "\n",
    "    "
   ]
  },
  {
   "cell_type": "code",
   "execution_count": null,
   "id": "0e1232e4",
   "metadata": {},
   "outputs": [],
   "source": [
    "Q6. What is the relationship between string and character 'types'; in Python?\n",
    "\n",
    "Answer.\n",
    "In Python, Strings are arrays of bytes representing Unicode characters. However, Python does not have a character data type, \n",
    "a single character is simply a string with a length of 1. Square brackets can be used to access elements of the string.\n",
    "\n"
   ]
  },
  {
   "cell_type": "code",
   "execution_count": 5,
   "id": "0802506b",
   "metadata": {},
   "outputs": [
    {
     "name": "stdout",
     "output_type": "stream",
     "text": [
      "String with the use of Single Quotes: \n",
      "Welcome to the yyyyyyyyyy\n",
      "\n",
      "String with the use of Double Quotes: \n",
      "I'm a ambyreesh\n",
      "\n",
      "String with the use of Triple Quotes: \n",
      "I'm a Geek and I live in a world of \"Geeks\"\n",
      "\n",
      "Creating a multiline String: \n",
      "Geeks\n",
      "            For\n",
      "            Life\n"
     ]
    }
   ],
   "source": [
    "#Strings in Python can be created using single quotes or double quotes or even triple quotes. \n",
    "\n",
    "\n",
    "# Program for\n",
    "# Creation of String\n",
    " \n",
    "# Creating a String\n",
    "# with single Quotes\n",
    "String1 = 'Welcome to the yyyyyyyyyy'\n",
    "print(\"String with the use of Single Quotes: \")\n",
    "print(String1)\n",
    " \n",
    "# Creating a String\n",
    "# with double Quotes\n",
    "String1 = \"I'm a ambyreesh\"\n",
    "print(\"\\nString with the use of Double Quotes: \")\n",
    "print(String1)\n",
    "\n",
    "# Creating a String\n",
    "# with triple Quotes\n",
    "String1 = '''I'm a Geek and I live in a world of \"Geeks\"'''\n",
    "print(\"\\nString with the use of Triple Quotes: \")\n",
    "print(String1)\n",
    " \n",
    "# Creating String with triple\n",
    "# Quotes allows multiple lines\n",
    "String1 = '''Geeks\n",
    "            For\n",
    "            Life'''\n",
    "print(\"\\nCreating a multiline String: \")\n",
    "print(String1)"
   ]
  },
  {
   "cell_type": "code",
   "execution_count": null,
   "id": "4c88e866",
   "metadata": {},
   "outputs": [],
   "source": [
    "In Python, individual characters of a String can be accessed by using the method of Indexing. \n",
    "Indexing allows negative address references to access characters from the back of the String, \n",
    "e.g. -1 refers to the last character, -2 refers to the second last character, and so on. \n",
    "\n",
    "While accessing an index out of the range will cause an IndexError. Only Integers are allowed \n",
    "to be passed as an index, float or other types that will cause a TypeError. \n"
   ]
  },
  {
   "cell_type": "code",
   "execution_count": 7,
   "id": "3608ac2f",
   "metadata": {},
   "outputs": [
    {
     "name": "stdout",
     "output_type": "stream",
     "text": [
      "Initial String: \n",
      "ambreesh kumar\n",
      "\n",
      "First character of String is: \n",
      "a\n",
      "\n",
      "Last character of String is: \n",
      "r\n"
     ]
    }
   ],
   "source": [
    "# Python Program to Access\n",
    "# characters of String\n",
    " \n",
    "String1 = \"ambreesh kumar\"\n",
    "print(\"Initial String: \")\n",
    "print(String1)\n",
    " \n",
    "# Printing First character\n",
    "print(\"\\nFirst character of String is: \")\n",
    "print(String1[0])\n",
    " \n",
    "# Printing Last character\n",
    "print(\"\\nLast character of String is: \")\n",
    "print(String1[-1])"
   ]
  },
  {
   "cell_type": "code",
   "execution_count": null,
   "id": "9c048f18",
   "metadata": {},
   "outputs": [],
   "source": [
    "Q7. Identify at least two operators and one method that allow you to combine one or more smaller\n",
    "    strings to create a larger string.\n",
    "    \n",
    "Answer.\n",
    "The most common among them is using the plus (“+”) operator. You can combine both string variables and string literals using the “+” operator. However, \n",
    "there's another method that allows an easy way of concatenating multiple strings. It is using the in-place (+=) operator.\n",
    "\n",
    "String Concatenation is the operation of joining character strings end-to-end. If you have just started working on Python, you might come through a \n",
    "time when you will need to merge or combine the contents of two or more strings together. In technical terms, this merging or combining of strings \n",
    "together into a single string is called String concatenation.\n",
    "\n",
    "Python comprises of a number of ways when it comes to concatenate or combine strings together. Since Python is an object-oriented programming language, \n",
    "everything in Python is an object. So, the new string that is created after concatenation is also referred to as a string object in Python.  \n",
    "\n"
   ]
  },
  {
   "cell_type": "code",
   "execution_count": 4,
   "id": "e23485f9",
   "metadata": {},
   "outputs": [
    {
     "name": "stdout",
     "output_type": "stream",
     "text": [
      " amnreeshkumar\n",
      "pythonpythonpython\n"
     ]
    }
   ],
   "source": [
    "a = (\" amnreesh\")\n",
    "b = (\"kumar\")\n",
    "print(a + b)\n",
    "\n",
    "\n",
    "x = (\"python\")\n",
    "print(x *3)"
   ]
  },
  {
   "cell_type": "code",
   "execution_count": null,
   "id": "47a2dd03",
   "metadata": {},
   "outputs": [],
   "source": [
    "Using the join() method \n",
    "The join() method is the most flexible way of concatenating strings in Python. If you have many strings and you want to combine \n",
    "them together, use thejoin() method. It is a string method and the most interesting thing about join() is that you can combine \n",
    "strings using a separator. It works on iterators like lists, tuples, string, dictionaries, etc.  \n",
    "\n"
   ]
  },
  {
   "cell_type": "code",
   "execution_count": 6,
   "id": "2d64f7ec",
   "metadata": {},
   "outputs": [
    {
     "name": "stdout",
     "output_type": "stream",
     "text": [
      "python-is a-best opetion \n"
     ]
    }
   ],
   "source": [
    "a = (\"python\")\n",
    "b = (\"is a\")\n",
    "c = (\"best opetion \")\n",
    "\n",
    "print(\"-\".join([a,b,c]))"
   ]
  },
  {
   "cell_type": "code",
   "execution_count": null,
   "id": "ce611916",
   "metadata": {},
   "outputs": [],
   "source": [
    "Using the % operator :\n",
    "    \n",
    "The modulus operator (“%”) can be used for both string formatting and string concatenation. It is useful for cases in which you need to combine strings and also perform basic formatting. "
   ]
  },
  {
   "cell_type": "code",
   "execution_count": 7,
   "id": "ea35a386",
   "metadata": {},
   "outputs": [
    {
     "name": "stdout",
     "output_type": "stream",
     "text": [
      "Apple shake\n"
     ]
    }
   ],
   "source": [
    "a = (\"Apple\")\n",
    "b = (\"shake\")\n",
    "print(\"% s % s\"% (a,b))"
   ]
  },
  {
   "cell_type": "code",
   "execution_count": null,
   "id": "53904771",
   "metadata": {},
   "outputs": [],
   "source": [
    "Q8. What is the benefit of first checking the target string with in or not in before using the index\n",
    "    method to find a substring?\n",
    "    \n",
    "Answer.\n",
    "If you are looking to find or replace items in a string, Python has several built-in methods that can help you search a target string for a specified substring.\n",
    "\n",
    "Syntax\n",
    "string.find(substring, start, end)\n",
    "\n",
    "From the above syntax, you can observe that the .find() method takes the desired substring as the mandatory argument. You can specify the other two arguments: \n",
    "an inclusive starting position and an exclusive ending position.\n",
    "\n"
   ]
  },
  {
   "cell_type": "code",
   "execution_count": 8,
   "id": "65b9bf70",
   "metadata": {},
   "outputs": [
    {
     "data": {
      "text/plain": [
       "8"
      ]
     },
     "execution_count": 8,
     "metadata": {},
     "output_type": "execute_result"
    }
   ],
   "source": [
    "my_string = \"Where's Waldo?\"\n",
    "my_string.find(\"Waldo\")"
   ]
  },
  {
   "cell_type": "code",
   "execution_count": null,
   "id": "24619063",
   "metadata": {},
   "outputs": [],
   "source": [
    "Q9. Which operators and built-in string methods produce simple Boolean (true/false) results?\n",
    "\n",
    "Answer.\n",
    "he Python Boolean type has only two possible values:\n",
    "\n",
    "True\n",
    "False\n",
    "No other value will have bool as its type. You can check the type of True and False with the built-in type():\n",
    "    \n",
    "Boolean operators are those that take Boolean inputs and return Boolean results.\n",
    "Since Python Boolean values have only two possible options, True or False, it’s possible to specify the operators \n",
    "completely in terms of the results they assign to every possible input combination. These specifications are \n",
    "called truth tables since they’re displayed in a table.\n",
    "\n",
    "\n"
   ]
  },
  {
   "cell_type": "code",
   "execution_count": null,
   "id": "2b4aa818",
   "metadata": {},
   "outputs": [],
   "source": []
  },
  {
   "cell_type": "code",
   "execution_count": null,
   "id": "fb8190ac",
   "metadata": {},
   "outputs": [],
   "source": []
  }
 ],
 "metadata": {
  "kernelspec": {
   "display_name": "Python 3",
   "language": "python",
   "name": "python3"
  },
  "language_info": {
   "codemirror_mode": {
    "name": "ipython",
    "version": 3
   },
   "file_extension": ".py",
   "mimetype": "text/x-python",
   "name": "python",
   "nbconvert_exporter": "python",
   "pygments_lexer": "ipython3",
   "version": "3.8.8"
  }
 },
 "nbformat": 4,
 "nbformat_minor": 5
}
