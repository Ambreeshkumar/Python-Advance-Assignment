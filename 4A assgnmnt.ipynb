{
 "cells": [
  {
   "cell_type": "code",
   "execution_count": null,
   "id": "4ce05c2b",
   "metadata": {},
   "outputs": [],
   "source": [
    "Q1. Which two operator overloading methods can you use in your classes to support iteration?\n",
    "\n",
    "Answer. \n",
    "First is Arithmetic operators:\n",
    "Arithmetic operators are used to perform mathematical operations like addition, subtraction, multiplication, etc.\n",
    "\n",
    "second is Comparison operators:\n",
    "Comparison operators are used to compare values. It returns either True or False according to the condition.   "
   ]
  },
  {
   "cell_type": "code",
   "execution_count": null,
   "id": "453b5bee",
   "metadata": {},
   "outputs": [],
   "source": [
    "The __iter__ returns the iterator object and is implicitly called at the start of loops. The __next__ method returns the next value \n",
    "and is implicitly called at each loop increment. __next__ raises a StopIteration exception when there are no more value to return, \n",
    "which is implicitly captured by looping constructs to stop iterating.\n",
    "\n",
    "\n",
    "\n",
    "\n",
    "\n",
    "class Counter:\n",
    "    def __init__(self, low, high):\n",
    "        self.current = low\n",
    "        self.high = high\n",
    " \n",
    "    def __iter__(self):\n",
    "        return self\n",
    " \n",
    "    def __next__(self):\n",
    "        if self.current > self.high:\n",
    "            raise StopIteration\n",
    "        else:\n",
    "            self.current += 1\n",
    "            return self.current - 1\n",
    "        \n",
    "        \n",
    "for num in Counter(5, 15):\n",
    "    print(num)"
   ]
  },
  {
   "cell_type": "code",
   "execution_count": null,
   "id": "bc2d3c64",
   "metadata": {},
   "outputs": [],
   "source": [
    "Q2. In what contexts do the two operator overloading methods manage printing?\n",
    " \n",
    "Answer.\n",
    "When more then one method with the same name is defined in the same class\n",
    "it is known as methid overloading.\n",
    "\n",
    "In python, If a method is written such that it can perform more than one task it,\n",
    "is callod method overloading.\n"
   ]
  },
  {
   "cell_type": "code",
   "execution_count": 5,
   "id": "d2f3d3fe",
   "metadata": {},
   "outputs": [
    {
     "name": "stdout",
     "output_type": "stream",
     "text": [
      "2nd sum method\n",
      "2nd sum method\n"
     ]
    }
   ],
   "source": [
    "class Myclass:\n",
    "    def sum(self, a):\n",
    "        print(\"1st sum method\", a)\n",
    "        \n",
    "    def sum(self):\n",
    "        print(\"2nd sum method\")\n",
    "        \n",
    "obj = Myclass()\n",
    "obj.sum()\n",
    "obj.sum()\n",
    "\n",
    "\n"
   ]
  },
  {
   "cell_type": "code",
   "execution_count": 9,
   "id": "0e3c0dff",
   "metadata": {},
   "outputs": [
    {
     "name": "stdout",
     "output_type": "stream",
     "text": [
      "60\n"
     ]
    }
   ],
   "source": [
    "class Myclass:\n",
    "    def sum(self, a=None, b=None, c=None):\n",
    "        if a!=None and b!=None and c!=None:\n",
    "            s = a+b+c\n",
    "            return s\n",
    "\n",
    "obj = Myclass()\n",
    "print(obj.sum(10, 20, 30))"
   ]
  },
  {
   "cell_type": "code",
   "execution_count": null,
   "id": "44693ecd",
   "metadata": {},
   "outputs": [],
   "source": [
    "Q3. In a class, how do you intercept slice operations?\n",
    "\n",
    "Answer. \n",
    "The __getitem__ method is used for accessing list items, array elements, dictionary entries etc. \n",
    "slice is a constructor in Python that creates slice object to represent set of indices that the \n",
    "range(start, stop, step) specifies. __getitem__ method can be implement in a class, and the behavior \n",
    "of slicing can be defined inside it.\n",
    "\n",
    "Syntax:\n",
    "\n",
    "__getitem__(slice(start, stop, step))\n",
    "\n",
    "Parameter:\n",
    "\n",
    "slice() : constructor to create slice object.\n",
    "start: An integer number specifying start index.It is optional and default is 0.\n",
    "stop: An integer number specifying end index.\n",
    "step: An integer number specifying the step of slicing. It is optional and\n",
    "default is 1.\n",
    "\n",
    "\n",
    "\n"
   ]
  },
  {
   "cell_type": "code",
   "execution_count": 2,
   "id": "95046651",
   "metadata": {},
   "outputs": [
    {
     "name": "stdout",
     "output_type": "stream",
     "text": [
      "1\n",
      "(1, 2)\n",
      "(1, 2, 3)\n"
     ]
    },
    {
     "data": {
      "text/plain": [
       "(1, 2, 3)"
      ]
     },
     "execution_count": 2,
     "metadata": {},
     "output_type": "execute_result"
    }
   ],
   "source": [
    "class Demo:\n",
    "    def __getitem__(self, key):\n",
    "          \n",
    "        # print a[1], a[1, 2], \n",
    "        # a[1, 2, 3]\n",
    "        print(key)\n",
    "          \n",
    "        return key\n",
    "a = Demo()\n",
    "  \n",
    "# slice 1\n",
    "a[1]\n",
    "  \n",
    "# slice(1, 2)\n",
    "a[1, 2]\n",
    "  \n",
    "# (1, 2, 3)\n",
    "a[1, 2, 3]\n",
    "\n",
    "\n",
    "# The class demo has the __getitem__ method, slicing is comma-separated. \n",
    "# Key prints the sliced object which is passed in class through variable a."
   ]
  },
  {
   "cell_type": "code",
   "execution_count": null,
   "id": "fdf1c730",
   "metadata": {},
   "outputs": [],
   "source": [
    "Q4. In a class, how do you capture in-place addition?\n",
    "\n",
    "Answer.\n",
    "Normal operators do the simple assigning job. On other hand, Inplace operators behave similarly to \n",
    "normal operators except that they act in a different manner in case of mutable and Immutable targets. \n",
    "\n",
    "he _add_ method, does simple addition, takes two arguments, returns the sum, and stores it in another \n",
    "variable without modifying any of the arguments.\n",
    "On the other hand, _iadd_ method also takes two arguments, but it makes an in-place change in 1st argument \n",
    "passed by storing the sum in it. As object mutation is needed in this process, immutable targets such as numbers, \n",
    "strings, and tuples, shouldn’t have _iadd_ method.\n",
    "Normal operator’s “add()” method, implements “a+b” and stores the result in the mentioned variable.\n",
    "Inplace operator’s “iadd()” method, implements “a+=b” if it exists (i.e in case of immutable targets, it doesn’t exist) \n",
    "and changes the value of the passed argument. But if not, “a+b” is implemented.\n",
    "\n",
    "\n",
    "\n"
   ]
  },
  {
   "cell_type": "code",
   "execution_count": 5,
   "id": "18ee4603",
   "metadata": {},
   "outputs": [
    {
     "name": "stdout",
     "output_type": "stream",
     "text": [
      "Value after adding using normal operator : 11\n",
      "Value after adding using Inplace operator : 11\n",
      "Value of first argument using normal operator : 5\n",
      "Value of first argument using Inplace operator : 5\n"
     ]
    }
   ],
   "source": [
    "# Python code to demonstrate difference between \n",
    "# Inplace and Normal operators in Immutable Targets\n",
    "  \n",
    "# importing operator to handle operator operations\n",
    "import operator\n",
    "  \n",
    "# Initializing values\n",
    "x = 5\n",
    "y = 6\n",
    "a = 5\n",
    "b = 6\n",
    "# using add() to add the arguments passed \n",
    "z = operator.add(a,b)\n",
    "  \n",
    "# using iadd() to add the arguments passed \n",
    "p = operator.iadd(x,y)\n",
    "\n",
    "\n",
    "# printing the modified value\n",
    "print (\"Value after adding using normal operator : \",end=\"\")\n",
    "print (z)\n",
    "  \n",
    "# printing the modified value\n",
    "print (\"Value after adding using Inplace operator : \",end=\"\")\n",
    "print (p)\n",
    "  \n",
    "# printing value of first argument\n",
    "# value is unchanged\n",
    "print (\"Value of first argument using normal operator : \",end=\"\")\n",
    "print (a)\n",
    "  \n",
    "# printing value of first argument\n",
    "# value is unchanged\n",
    "print (\"Value of first argument using Inplace operator : \",end=\"\")\n",
    "print (x)"
   ]
  },
  {
   "cell_type": "code",
   "execution_count": null,
   "id": "7aa40b94",
   "metadata": {},
   "outputs": [],
   "source": [
    "Q5.   When is it appropriate to use operator overloading?\n",
    "\n",
    "Answer.\n",
    "Operator overloading is mostly useful when you're making a new class that falls into an existing \"Abstract Base Class\" (ABC) \n",
    "indeed, many of the ABCs in standard library module collections rely on the presence of certain special methods (and special \n",
    "methods, one with names starting and ending with double underscores AKA \"dunders\", are exactly the way you perform operator \n",
    "overloading in Python). This provides good starting guidance.\n",
    "\n",
    "For example, a Container class must override special method __contains__, the membership check operator item in container \n",
    "(as in, if item in container: -- don't confuse with the for statement, for item in container:, which relies on __iter__!-). \n",
    " \n",
    "Similarly, a Hashable must override __hash__, a Sized must override __len__, a Sequence or a Mapping must override __getitem__, \n",
    "and so forth. (Moreover, the ABCs can provide your class with mixin functionality -- e.g., both Sequence and Mapping can \n",
    "provide __contains__ on the basis of your supplied __getitem__ override, and thereby automatically make your class a Container)."
   ]
  },
  {
   "cell_type": "code",
   "execution_count": null,
   "id": "f886aaae",
   "metadata": {},
   "outputs": [],
   "source": []
  }
 ],
 "metadata": {
  "kernelspec": {
   "display_name": "Python 3",
   "language": "python",
   "name": "python3"
  },
  "language_info": {
   "codemirror_mode": {
    "name": "ipython",
    "version": 3
   },
   "file_extension": ".py",
   "mimetype": "text/x-python",
   "name": "python",
   "nbconvert_exporter": "python",
   "pygments_lexer": "ipython3",
   "version": "3.8.8"
  }
 },
 "nbformat": 4,
 "nbformat_minor": 5
}
