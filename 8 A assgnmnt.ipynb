{
 "cells": [
  {
   "cell_type": "code",
   "execution_count": null,
   "id": "e29449ef",
   "metadata": {},
   "outputs": [],
   "source": [
    "Q1. What are the two latest user-defined exception constraints in Python 3.X?\n",
    "\n",
    "Answer.\n",
    "Creating a User-defined Exception class\n",
    "Here we created a new exception class i.e. User_Error. Exceptions need to be derived from the built-in Exception class, \n",
    "either directly or indirectly. Let’s look at the given example which contains a constructor and display method within the given class.\n"
   ]
  },
  {
   "cell_type": "code",
   "execution_count": 1,
   "id": "033e0b17",
   "metadata": {},
   "outputs": [
    {
     "name": "stdout",
     "output_type": "stream",
     "text": [
      "A New Exception occured: User defined error\n"
     ]
    }
   ],
   "source": [
    "# class MyError is extended from super class Exception\n",
    "class User_Error(Exception):\n",
    "   # Constructor method\n",
    "   def __init__(self, value):\n",
    "      self.value = value\n",
    "   # __str__ display function\n",
    "   def __str__(self):\n",
    "      return(repr(self.value))\n",
    "try:\n",
    "   raise(User_Error(\"User defined error\"))\n",
    "   # Value of Exception is stored in error\n",
    "except User_Error as error:\n",
    "   print('A New Exception occured:',error.value)"
   ]
  },
  {
   "cell_type": "code",
   "execution_count": null,
   "id": "462a04e3",
   "metadata": {},
   "outputs": [],
   "source": [
    "Q2. How are class-based exceptions that have been raised matched to handlers?\n",
    "\n",
    "Answer. \n",
    "Creating a User-defined Exception class (standard Exceptions)\n",
    "Runtime error is a built-in class which is raised whenever a generated error does not fall into mentioned categories. \n",
    "The program below explains how to use runtime error as base class and user-defined error as derived class."
   ]
  },
  {
   "cell_type": "code",
   "execution_count": 2,
   "id": "e0787183",
   "metadata": {},
   "outputs": [
    {
     "name": "stdout",
     "output_type": "stream",
     "text": [
      "('u', 's', 'e', 'r', 'E', 'r', 'r', 'o', 'r')\n"
     ]
    }
   ],
   "source": [
    "# User defined error\n",
    "class Usererror(RuntimeError):\n",
    "   def __init__(self, arg):\n",
    "      self.args = arg\n",
    "try:\n",
    "   raise Usererror(\"userError\")\n",
    "except Usererror as e:\n",
    "   print (e.args)"
   ]
  },
  {
   "cell_type": "code",
   "execution_count": null,
   "id": "90f7312f",
   "metadata": {},
   "outputs": [],
   "source": [
    "Q3. Describe two methods for attaching context information to exception artefacts.\n",
    "\n",
    "Answer.\n",
    "A better strategy is to just append your message to the argument of the original exception if possible as in err. \n",
    "args += (\"message\",) and re-raise the exception message. The traceback might not take you to the line numbers where \n",
    "the exception was caught but it will take you to where the exception occurred for sure\n",
    "\n",
    "\n"
   ]
  },
  {
   "cell_type": "code",
   "execution_count": 4,
   "id": "e27b8f40",
   "metadata": {},
   "outputs": [
    {
     "ename": "SyntaxError",
     "evalue": "'return' outside function (<ipython-input-4-ef7178bde967>, line 2)",
     "output_type": "error",
     "traceback": [
      "\u001b[1;36m  File \u001b[1;32m\"<ipython-input-4-ef7178bde967>\"\u001b[1;36m, line \u001b[1;32m2\u001b[0m\n\u001b[1;33m    return [permission() for permission in self.permission_classes]\u001b[0m\n\u001b[1;37m    ^\u001b[0m\n\u001b[1;31mSyntaxError\u001b[0m\u001b[1;31m:\u001b[0m 'return' outside function\n"
     ]
    }
   ],
   "source": [
    "try:\n",
    "    return [permission() for permission in self.permission_classes]\n",
    "except TypeError as e:\n",
    "    raise TypeError(\"Make sure your view's 'permission_classes' are iterable. \"\n",
    "                    \"If you use '()' to generate a set with a single element \"\n",
    "                    \"make sure that there is a comma behind the one (element,).\") from e\n"
   ]
  },
  {
   "cell_type": "code",
   "execution_count": null,
   "id": "ff693ceb",
   "metadata": {},
   "outputs": [],
   "source": [
    "Q4. Describe two methods for specifying the text of an exception objec's error message.\n",
    "\n",
    "Answer.\n",
    "Raising Exception\n",
    "The raise statement allows the programmer to force a specific exception to occur. The sole argument in raise indicates the exception to be raised. \n",
    "This must be either an exception instance or an exception class (a class that derives from Exception).\n",
    "\n",
    "\n"
   ]
  },
  {
   "cell_type": "code",
   "execution_count": 5,
   "id": "73309a89",
   "metadata": {},
   "outputs": [
    {
     "name": "stdout",
     "output_type": "stream",
     "text": [
      "An exception\n"
     ]
    },
    {
     "ename": "NameError",
     "evalue": "Hi there",
     "output_type": "error",
     "traceback": [
      "\u001b[1;31m---------------------------------------------------------------------------\u001b[0m",
      "\u001b[1;31mNameError\u001b[0m                                 Traceback (most recent call last)",
      "\u001b[1;32m<ipython-input-5-015bba718ac8>\u001b[0m in \u001b[0;36m<module>\u001b[1;34m\u001b[0m\n\u001b[0;32m      2\u001b[0m \u001b[1;33m\u001b[0m\u001b[0m\n\u001b[0;32m      3\u001b[0m \u001b[1;32mtry\u001b[0m\u001b[1;33m:\u001b[0m\u001b[1;33m\u001b[0m\u001b[1;33m\u001b[0m\u001b[0m\n\u001b[1;32m----> 4\u001b[1;33m     \u001b[1;32mraise\u001b[0m \u001b[0mNameError\u001b[0m\u001b[1;33m(\u001b[0m\u001b[1;34m\"Hi there\"\u001b[0m\u001b[1;33m)\u001b[0m  \u001b[1;31m# Raise Error\u001b[0m\u001b[1;33m\u001b[0m\u001b[1;33m\u001b[0m\u001b[0m\n\u001b[0m\u001b[0;32m      5\u001b[0m \u001b[1;32mexcept\u001b[0m \u001b[0mNameError\u001b[0m\u001b[1;33m:\u001b[0m\u001b[1;33m\u001b[0m\u001b[1;33m\u001b[0m\u001b[0m\n\u001b[0;32m      6\u001b[0m     \u001b[0mprint\u001b[0m \u001b[1;33m(\u001b[0m\u001b[1;34m\"An exception\"\u001b[0m\u001b[1;33m)\u001b[0m\u001b[1;33m\u001b[0m\u001b[1;33m\u001b[0m\u001b[0m\n",
      "\u001b[1;31mNameError\u001b[0m: Hi there"
     ]
    }
   ],
   "source": [
    "# Program to depict Raising Exception\n",
    " \n",
    "try:\n",
    "    raise NameError(\"Hi there\")  # Raise Error\n",
    "except NameError:\n",
    "    print (\"An exception\")\n",
    "    raise  # To determine whether the exception was raised or not"
   ]
  },
  {
   "cell_type": "code",
   "execution_count": null,
   "id": "0354aa53",
   "metadata": {},
   "outputs": [],
   "source": [
    "An exception is an event that interrupts a running program. Examples of Python exceptions \n",
    "are ZeroDivisionError or IndexError. Catching and printing an exception prevents the program \n",
    "from being interrupted while displaying the error that was caught during execution."
   ]
  },
  {
   "cell_type": "code",
   "execution_count": 7,
   "id": "7627d1e3",
   "metadata": {},
   "outputs": [
    {
     "name": "stdout",
     "output_type": "stream",
     "text": [
      "division by zero\n",
      "list index out of range\n"
     ]
    }
   ],
   "source": [
    "try:\n",
    "    a = 1/0\n",
    "\n",
    "except Exception as e:\n",
    "    print(e)\n",
    "    \n",
    "       \n",
    "try:\n",
    "    l = [1, 2, 3]\n",
    "    l[4]\n",
    "\n",
    "except IndexError as e:\n",
    "    print(e)"
   ]
  },
  {
   "cell_type": "code",
   "execution_count": null,
   "id": "c9aeca24",
   "metadata": {},
   "outputs": [],
   "source": [
    "Q5. Why do you no longer use string-based exceptions?\n",
    "\n",
    "Answer.\n",
    "Use a try-and-except block to get the value of an exception as a string. Within a try-and-except block, \n",
    "write the except-statement as except Exception as error to capture an Exception as error . Use str(obj) \n",
    "with this error as obj to convert it to a string.\n",
    "\n",
    "Errors detected during execution are exceptions. Try-and-except blocks are used to handle such errors and \n",
    "capture information about them, such as getting the value of an exception as a string.\n",
    "\n",
    "\n"
   ]
  }
 ],
 "metadata": {
  "kernelspec": {
   "display_name": "Python 3",
   "language": "python",
   "name": "python3"
  },
  "language_info": {
   "codemirror_mode": {
    "name": "ipython",
    "version": 3
   },
   "file_extension": ".py",
   "mimetype": "text/x-python",
   "name": "python",
   "nbconvert_exporter": "python",
   "pygments_lexer": "ipython3",
   "version": "3.8.8"
  }
 },
 "nbformat": 4,
 "nbformat_minor": 5
}
