{
 "cells": [
  {
   "cell_type": "code",
   "execution_count": null,
   "id": "c7ccfd40",
   "metadata": {},
   "outputs": [],
   "source": [
    "Q1. What is the difference between __getattr__ and __getattribute__?\n",
    "\n",
    "Answer.\n",
    "in Python, what’s the difference between\n",
    "getattr , getattribute, and getattr() ?\n",
    "getattr\n",
    "getattr__ gets called if there is no attribute in the instance.\n",
    "It’s invoked “last”, if Python can’t find that attribute.(lowest priority)\n",
    "getattribute__\n",
    "getattribute__ gets called all the times, whether there is the attribute or not.\n",
    "\n",
    "It’s invoked “first”(highest priority) — it actually “intercepts” every lookup.\n",
    "So, even if there is the attribute in the instance, Python calls __getattribute__ first, with the attribute as an argument.\n",
    "\n",
    "getattr()\n",
    "getattr() has 2 or 3 parameters.\n",
    "getattr(myObj, ‘myAttribute’) is the same as myObj.myAttribute. Here, the second argument is a string.\n",
    "In getattr(myObj, ‘anotherAttribute’, ‘myDefault’), the 3rd argument is a default value. So, if there is no attribute \n",
    "‘anotherAttribute’, then the 3rd argument ‘myDefault’ is returned.\n",
    "\n",
    "\n",
    "These two methods are implemented as methods of a class. __getattribute__ is always called. Essentially this method is \n",
    "used to find an attribute of a class. If it fails, it will raise an AttributeError. In case it fails, and class \n",
    "implements __getattr__, then __getattr__ is called right after. Therefore, the biggest difference is that __getattr__ is \n",
    "called for attributes that don’t actually exist on a class\n",
    "\n"
   ]
  },
  {
   "cell_type": "code",
   "execution_count": 1,
   "id": "1cc40fd5",
   "metadata": {},
   "outputs": [
    {
     "name": "stdout",
     "output_type": "stream",
     "text": [
      "ace value\n",
      "hahaha-ace2\n",
      "{'ace': 'ace value'}\n"
     ]
    }
   ],
   "source": [
    "# All right. let’s look through some simple examples.\n",
    "class A:\n",
    "    def __getattr__(self, name):\n",
    "        return ('hahaha-'+name)\n",
    "\n",
    "a = A()\n",
    "a.ace = 'ace value'\n",
    "\n",
    "print(a.ace)\n",
    "print(a.ace2)\n",
    "print(a.__dict__)"
   ]
  },
  {
   "cell_type": "code",
   "execution_count": null,
   "id": "ba4ba230",
   "metadata": {},
   "outputs": [],
   "source": [
    "Q2. What is the difference between properties and descriptors?\n",
    "\n",
    "Answer.\n",
    "Definition of descriptor :\n",
    "Python descriptors are created to manage the attributes of different classes which use the object as reference. \n",
    "In descriptors we used three different methods that are __getters__(), __setters__(), and __delete__(). \n",
    "If any of those methods are defined for an object, it can be termed as a descriptor. Normally, \n",
    "Python uses methods like getters and setters to adjust the values on attributes without any special processing. \n",
    "It’s just a basic storage system. Sometimes, You might need to validate the values that are being assigned to a value.\n",
    "A descriptor is a mechanism behind properties, methods, static methods, class methods, and super().\n",
    "\n",
    "Descriptor protocol :\n",
    "In other programming languages, descriptors are referred to as setter and getter, where public functions are used to Get \n",
    "and Set a private variable. Python doesn’t have a private variables concept, and descriptor protocol can be considered as \n",
    "a Pythonic way to achieve something similar. Descriptors are a new way to implement classes in Python, and it does not \n",
    "need to inherit anything from a particular object. To implement descriptors easily in python we have to use at least one \n",
    "of the methods that are defined above. Note that instance below returns to the object where the attribute was accessed, \n",
    "and the owner is the class where the descriptor was assigned as an attribute. There are three protocol in python descriptor \n",
    "for setters, getters and delete method.\n",
    "\n",
    "gfg.__get__(self, obj, type=None) : This attribute is called when you want to retrieve the information (value = obj.attr), \n",
    "and whatever it returns is what will be given to the code that requested the attribute’s value.\n",
    "gfg.__set__(self, obj, value) : This method is called to set the values of an attribute (obj.attr = 'value'), \n",
    "and it will not return anything to you.\n",
    "gfg.__delete__(self, obj) : This method is called when the attribute is deleted from an object (del obj.attr)\n",
    "\n"
   ]
  },
  {
   "cell_type": "code",
   "execution_count": 2,
   "id": "37e14de3",
   "metadata": {},
   "outputs": [
    {
     "name": "stdout",
     "output_type": "stream",
     "text": [
      "ambreeshforambreesh\n"
     ]
    }
   ],
   "source": [
    "class Descriptor(object):\n",
    "  \n",
    "    def __init__(self, name =''):\n",
    "        self.name = name\n",
    "  \n",
    "    def __get__(self, obj, objtype):\n",
    "        return \"{}for{}\".format(self.name, self.name)\n",
    "  \n",
    "    def __set__(self, obj, name):\n",
    "        if isinstance(name, str):\n",
    "            self.name = name\n",
    "        else:\n",
    "            raise TypeError(\"Name should be string\")\n",
    "          \n",
    "class GFG(object):\n",
    "    name = Descriptor()\n",
    "    \n",
    "g = GFG()\n",
    "g.name = \"ambreesh\"\n",
    "print(g.name)"
   ]
  },
  {
   "cell_type": "code",
   "execution_count": null,
   "id": "745dbb23",
   "metadata": {},
   "outputs": [],
   "source": [
    "property() function:\n",
    "\n",
    "The property() function is used to define properties in the Python class.\n",
    "\n",
    "The property() method in Python provides an interface to instance attributes. \n",
    "It encapsulates instance attributes and provides a property, same as Java and C#.\n",
    "\n",
    "The property() method takes the get, set and delete methods as arguments and \n",
    "returns an object of the property class.\n",
    "\n",
    "It is recommended to use the property decorator instead of the property() method.\n",
    "\n",
    "\n",
    "PARAMETERS:\n",
    "    \n",
    "fget: (Optional) Function for getting the attribute value. Default value is none.\n",
    "fset: (Optional) Function for setting the attribute value. Default value is none.\n",
    "fdel: (Optional) Function for deleting the attribute value. Default value is none.\n",
    "doc: (Optional) A string that contains the documentation. Default value is none.\n",
    "Return Value:\n",
    "Returns the property attribute from the given getter, setter, and deleter.\n"
   ]
  },
  {
   "cell_type": "code",
   "execution_count": 3,
   "id": "5b604739",
   "metadata": {},
   "outputs": [],
   "source": [
    "class person:\n",
    "    def __init__(self):\n",
    "        self.__name=''\n",
    "    def setname(self, name):\n",
    "        print('setname() called')\n",
    "        self.__name=name\n",
    "    def getname(self):\n",
    "        print('getname() called')\n",
    "        return self.__name\n",
    "    name=property(getname, setname)"
   ]
  },
  {
   "cell_type": "code",
   "execution_count": null,
   "id": "b814e21d",
   "metadata": {},
   "outputs": [],
   "source": [
    "\n",
    "In the above example, property(getname, setname) returns the property object and assigns it to name. \n",
    "Thus, the name property hides the private instance attribute __name. The name property is accessed directly, \n",
    "but internally it will invoke the getname() or setname() method, as shown below.\n",
    "\n"
   ]
  },
  {
   "cell_type": "code",
   "execution_count": null,
   "id": "fff4e39b",
   "metadata": {},
   "outputs": [],
   "source": [
    "Q3. What are the key differences in functionality between __getattr__ and __getattribute__, as well as\n",
    "    properties and descriptors?\n",
    "    \n",
    "Answer.\n",
    "getattr.\n",
    "Called when an attribute lookup has not found the attribute in the usual places (i.e. it is not an instance attribute nor \n",
    "is it found in the class tree for self). name is the attribute name. This method should return the (computed) attribute \n",
    "value or raise an AttributeError exception.\n",
    "Note that if the attribute is found through the normal mechanism, __getattr__() is not called. \n",
    "(This is an intentional asymmetry between __getattr__() and __setattr__().) This is done both for efficiency reasons and \n",
    "because otherwise __getattr__() would have no way to access other attributes of the instance. Note that at least for \n",
    "instance variables, you can fake total control by not inserting any values in the instance attribute dictionary \n",
    "(but instead inserting them in another object). See the __getattribute__() method below for a way to actually \n",
    "get total control in new-style classes.\n",
    "\n",
    "\n",
    "\n",
    "getattribute__\n",
    "Called unconditionally to implement attribute accesses for instances of the class. If the class also defines __getattr__(), \n",
    "the latter will not be called unless __getattribute__() either calls it explicitly or raises an AttributeError. \n",
    "This method should return the (computed) attribute value or raise an AttributeError exception. In order to avoid infinite \n",
    "recursion in this method, its implementation should always call the base class method with the same name to access any \n",
    "attributes it needs, for example,\n",
    "\n",
    "\n",
    "\n"
   ]
  },
  {
   "cell_type": "code",
   "execution_count": null,
   "id": "d569f705",
   "metadata": {},
   "outputs": [],
   "source": [
    "class Yeah(object):\n",
    "    def __init__(self, name):\n",
    "        self.name = name\n",
    "    # Gets called when an attribute is accessed\n",
    "    def __getattribute__(self, item):\n",
    "        print ('__getattribute__ ', item)\n",
    "        # Calling the super class to avoid recursion\n",
    "        return super(Yeah, self).__getattribute__(item)\n",
    "    # Gets called when the item is not found via __getattribute__\n",
    "    def __getattr__(self, item):\n",
    "        print ('__getattr__ ', item)\n",
    "        return super(Yeah, self).__setattr__(item, 'orphan')\n",
    "    \n",
    "    \n",
    "    \n",
    "y1 = Yeah('yes')\n",
    "y1.name\n",
    "__getattribute__  name\n",
    "'yes'\n",
    "y1.foo\n",
    "__getattribute__  foo\n",
    "__getattr__  foo\n",
    "y1.foo\n",
    "__getattribute__  foo\n",
    "'orphan'\n",
    "y1.goo\n",
    "__getattribute__  goo\n",
    "__getattr__  goo\n",
    "y1.__dict__\n",
    "__getattribute__  __dict__\n",
    "{'__members__': 'orphan',\n",
    " '__methods__': 'orphan',\n",
    " 'foo': 'orphan',\n",
    " 'goo': 'orphan',\n",
    " 'name': 'yes'}\n",
    "\n",
    "\n"
   ]
  }
 ],
 "metadata": {
  "kernelspec": {
   "display_name": "Python 3",
   "language": "python",
   "name": "python3"
  },
  "language_info": {
   "codemirror_mode": {
    "name": "ipython",
    "version": 3
   },
   "file_extension": ".py",
   "mimetype": "text/x-python",
   "name": "python",
   "nbconvert_exporter": "python",
   "pygments_lexer": "ipython3",
   "version": "3.8.8"
  }
 },
 "nbformat": 4,
 "nbformat_minor": 5
}
