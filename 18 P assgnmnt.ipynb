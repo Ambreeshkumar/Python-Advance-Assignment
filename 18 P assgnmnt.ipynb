{
 "cells": [
  {
   "cell_type": "code",
   "execution_count": null,
   "id": "7b31ef28",
   "metadata": {},
   "outputs": [],
   "source": [
    "Question 1\n",
    "Create a function that takes a list of non-negative integers and strings and return a new list\n",
    "without the strings.\n"
   ]
  },
  {
   "cell_type": "code",
   "execution_count": 9,
   "id": "9a0ea258",
   "metadata": {},
   "outputs": [
    {
     "name": "stdout",
     "output_type": "stream",
     "text": [
      "[1, 2, 3, 5, 8, 10]\n"
     ]
    }
   ],
   "source": [
    "a = [1,2,3,'amb',5,8,'kum','ere',10]\n",
    "new_list = []\n",
    "for i in (a):\n",
    "    if (type(i)== int):\n",
    "        new_list.append(i)\n",
    "    \n",
    "        \n",
    "print(new_list)"
   ]
  },
  {
   "cell_type": "code",
   "execution_count": 10,
   "id": "6c1f706e",
   "metadata": {},
   "outputs": [
    {
     "data": {
      "text/plain": [
       "[1, 2, 3, 5, 8, 10]"
      ]
     },
     "execution_count": 10,
     "metadata": {},
     "output_type": "execute_result"
    }
   ],
   "source": [
    "# create function to filter the list:\n",
    "\n",
    "def filter_list(list):\n",
    "    \n",
    "# create new list to store integer type values:\n",
    "    new_list = []\n",
    "    for i in (list):\n",
    "        if (type(i)==int):\n",
    "            new_list.append(i)\n",
    "    return new_list\n",
    "\n",
    "\n",
    "# calling the function:\n",
    "list = [1,2,3,'amb',5,8,'kum','ere',10]\n",
    "filter_list(list)"
   ]
  },
  {
   "cell_type": "markdown",
   "id": "1189e6f8",
   "metadata": {},
   "source": [
    "Q2.\n",
    "The \"Reverser\" takes a string as input and returns that string in reverse order, with the\n",
    "opposite case."
   ]
  },
  {
   "cell_type": "code",
   "execution_count": 21,
   "id": "3a7917e0",
   "metadata": {},
   "outputs": [
    {
     "name": "stdout",
     "output_type": "stream",
     "text": [
      "The original string  is : ambreesh kumar\n",
      "The reversed string(using loops) is : ramuk hseerbma\n"
     ]
    }
   ],
   "source": [
    "def reverse(s):\n",
    "  str = \"\"\n",
    "  for i in s:\n",
    "    str = i + str\n",
    "  return str\n",
    "  \n",
    "s = \"ambreesh kumar\"\n",
    "  \n",
    "print (\"The original string  is : \",end=\"\")\n",
    "print (s)\n",
    "  \n",
    "print (\"The reversed string(using loops) is : \",end=\"\")\n",
    "print (reverse(s))"
   ]
  },
  {
   "cell_type": "code",
   "execution_count": 22,
   "id": "fea9e70e",
   "metadata": {},
   "outputs": [
    {
     "name": "stdout",
     "output_type": "stream",
     "text": [
      "dcba4321\n"
     ]
    }
   ],
   "source": [
    "def string_reverse(str1):\n",
    "\n",
    "    rstr1 = ''\n",
    "    index = len(str1)\n",
    "    while index > 0:\n",
    "        rstr1 += str1[ index - 1 ]\n",
    "        index = index - 1\n",
    "    return rstr1\n",
    "print(string_reverse('1234abcd'))"
   ]
  },
  {
   "cell_type": "markdown",
   "id": "bb6c04d7",
   "metadata": {},
   "source": [
    "Question 3\n",
    "You can assign variables from lists like this:\n",
    "lst = [1, 2, 3, 4, 5, 6]\n",
    "first = lst[0]\n",
    "middle = lst[1:-1]\n",
    "last = lst[-1]\n",
    "print(first) ➞ outputs 1\n",
    "print(middle) ➞ outputs [2, 3, 4, 5]\n",
    "print(last) ➞ outputs 6"
   ]
  },
  {
   "cell_type": "code",
   "execution_count": 27,
   "id": "8b4fcbfb",
   "metadata": {},
   "outputs": [
    {
     "name": "stdout",
     "output_type": "stream",
     "text": [
      "first variable =  1\n",
      "middle value =  [2, 3, 4, 5]\n",
      "last value =  6\n"
     ]
    }
   ],
   "source": [
    "list = [1,2,3,4,5,6,]\n",
    "\n",
    "print(\"first variable = \",list[0])\n",
    "print(\"middle value = \",list[1:-1])\n",
    "print(\"last value = \",list[-1])"
   ]
  },
  {
   "cell_type": "markdown",
   "id": "95504945",
   "metadata": {},
   "source": [
    "Question 4\n",
    "Write a function that calculates the factorial of a number recursively.\n",
    "Examples\n",
    "factorial(5) ➞ 120\n",
    "factorial(3) ➞ 6\n",
    "factorial(1) ➞ 1\n",
    "factorial(0) ➞ 1"
   ]
  },
  {
   "cell_type": "code",
   "execution_count": 28,
   "id": "be2c300b",
   "metadata": {},
   "outputs": [
    {
     "name": "stdout",
     "output_type": "stream",
     "text": [
      "enter the number = 6\n",
      "720\n"
     ]
    }
   ],
   "source": [
    "def factorial(n):\n",
    "    if (n==1):\n",
    "        return 1\n",
    "    else:\n",
    "        return (n*factorial(n-1))\n",
    "    \n",
    "n = int(input(\"enter the number = \"))\n",
    "a = factorial(n)\n",
    "print(a)\n",
    "        "
   ]
  },
  {
   "cell_type": "code",
   "execution_count": null,
   "id": "f9c9c2b1",
   "metadata": {},
   "outputs": [],
   "source": [
    "Question 5\n",
    "Write a function that moves all elements of one type to the end of the list."
   ]
  }
 ],
 "metadata": {
  "kernelspec": {
   "display_name": "Python 3",
   "language": "python",
   "name": "python3"
  },
  "language_info": {
   "codemirror_mode": {
    "name": "ipython",
    "version": 3
   },
   "file_extension": ".py",
   "mimetype": "text/x-python",
   "name": "python",
   "nbconvert_exporter": "python",
   "pygments_lexer": "ipython3",
   "version": "3.8.8"
  }
 },
 "nbformat": 4,
 "nbformat_minor": 5
}
