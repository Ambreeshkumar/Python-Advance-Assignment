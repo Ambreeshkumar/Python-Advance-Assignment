{
 "cells": [
  {
   "cell_type": "code",
   "execution_count": null,
   "id": "7d0e684b",
   "metadata": {},
   "outputs": [],
   "source": [
    "Q1. Describe three applications for exception processing.\n",
    "\n",
    "Answer.\n",
    "Common Examples of Exception:\n",
    "Division by Zero\n",
    "Accessing a file which does not exist.\n",
    "Addition of two incompatible types\n",
    "Trying to access a nonexistent index of a sequence\n",
    "Removing the table from the disconnected database server.\n",
    "ATM withdrawal of more than the available amount\n",
    "\n",
    "\n",
    "Python Exception Handling Mechanism\n",
    "Exception handling is managed by the following 5 keywords:\n",
    "\n",
    "try\n",
    "catch\n",
    "finally\n",
    "throw\n",
    "\n",
    "An exception is an error which happens at the time of execution \n",
    "of a program. However, while running a program, Python generates \n",
    "an exception that should be handled to avoid your program to crash. \n",
    "In Python language, exceptions trigger automatically on errors, or \n",
    "they can be triggered and intercepted by your code.\n"
   ]
  },
  {
   "cell_type": "code",
   "execution_count": null,
   "id": "3cfc6772",
   "metadata": {},
   "outputs": [],
   "source": [
    "Q2. What happens if you don't do something extra to treat an exception?\n",
    "\n",
    "Answer.\n",
    "Ignoring an exception caught within a try and except block during a program's execution does not perform \n",
    "any action and allows the program to continue running from the point where the exception was caught.\n",
    "\n",
    "\n",
    "Use pass to ignore an exception\n",
    "try:\n",
    "print(invalid-variable)\n",
    "except Exception:\n",
    "pass.\n",
    "print(\"Exception ignored\")\n"
   ]
  },
  {
   "cell_type": "code",
   "execution_count": 1,
   "id": "1dcfb6ff",
   "metadata": {},
   "outputs": [
    {
     "name": "stdout",
     "output_type": "stream",
     "text": [
      "Exception ignored\n"
     ]
    }
   ],
   "source": [
    "try:\n",
    "    print(invalid-variable)\n",
    "except Exception:\n",
    "    pass\n",
    "\n",
    "print(\"Exception ignored\")"
   ]
  },
  {
   "cell_type": "code",
   "execution_count": null,
   "id": "4c553543",
   "metadata": {},
   "outputs": [],
   "source": [
    "Q3. What are your options for recovering from an exception in your script?\n",
    "\n",
    "Answer. \n",
    "If i stuke in exception handeling, i will use try and except statement \n",
    "Try and except statements are used to catch and handle exceptions in Python. \n",
    "Statements that can raise exceptions are kept inside the try clause and the \n",
    "statements that handle the exception are written inside except clause.\n",
    "\n",
    "Let us try to access the array element whose index is out of bound and handle \n",
    "the corresponding exception.\n"
   ]
  },
  {
   "cell_type": "code",
   "execution_count": 10,
   "id": "841d8e11",
   "metadata": {},
   "outputs": [
    {
     "name": "stdout",
     "output_type": "stream",
     "text": [
      "second element = 2\n",
      "An error occurred\n"
     ]
    }
   ],
   "source": [
    "# This program to handle simple runtime error\n",
    "\n",
    "a = [1,2,3,4]\n",
    "try:\n",
    "    print(\"second element = %d\" %(a[1]))\n",
    "    \n",
    "    # throw error since there are only 4 elements in list\n",
    "    print(\"fourth element = %d\" %(a[7]))\n",
    "    \n",
    "except:\n",
    "    print(\"An error occurred\")"
   ]
  },
  {
   "cell_type": "code",
   "execution_count": null,
   "id": "a6f01d22",
   "metadata": {},
   "outputs": [],
   "source": [
    "Q4. Describe two methods for triggering exceptions in your script.\n",
    "\n",
    "Answer.\n",
    "As a Python developer you can choose to throw an exception if a condition occurs.\n",
    "\n",
    "To throw (or raise) an exception, use the raise keyword.\n",
    "\n",
    "he raise keyword is used to raise an exception.\n",
    "\n",
    "You can define what kind of error to raise, and the text to print to the user."
   ]
  },
  {
   "cell_type": "code",
   "execution_count": 12,
   "id": "d0884706",
   "metadata": {},
   "outputs": [
    {
     "ename": "TypeError",
     "evalue": "Only integers are allowed",
     "output_type": "error",
     "traceback": [
      "\u001b[1;31m---------------------------------------------------------------------------\u001b[0m",
      "\u001b[1;31mTypeError\u001b[0m                                 Traceback (most recent call last)",
      "\u001b[1;32m<ipython-input-12-2050583fb0c9>\u001b[0m in \u001b[0;36m<module>\u001b[1;34m\u001b[0m\n\u001b[0;32m      2\u001b[0m \u001b[1;33m\u001b[0m\u001b[0m\n\u001b[0;32m      3\u001b[0m \u001b[1;32mif\u001b[0m \u001b[1;32mnot\u001b[0m \u001b[0mtype\u001b[0m\u001b[1;33m(\u001b[0m\u001b[0mx\u001b[0m\u001b[1;33m)\u001b[0m \u001b[1;32mis\u001b[0m \u001b[0mint\u001b[0m\u001b[1;33m:\u001b[0m\u001b[1;33m\u001b[0m\u001b[1;33m\u001b[0m\u001b[0m\n\u001b[1;32m----> 4\u001b[1;33m   \u001b[1;32mraise\u001b[0m \u001b[0mTypeError\u001b[0m\u001b[1;33m(\u001b[0m\u001b[1;34m\"Only integers are allowed\"\u001b[0m\u001b[1;33m)\u001b[0m\u001b[1;33m\u001b[0m\u001b[1;33m\u001b[0m\u001b[0m\n\u001b[0m\u001b[0;32m      5\u001b[0m \u001b[1;33m\u001b[0m\u001b[0m\n\u001b[0;32m      6\u001b[0m \u001b[1;33m\u001b[0m\u001b[0m\n",
      "\u001b[1;31mTypeError\u001b[0m: Only integers are allowed"
     ]
    }
   ],
   "source": [
    "x = \"hello\"\n",
    "\n",
    "if not type(x) is int:\n",
    "  raise TypeError(\"Only integers are allowed\")\n",
    "\n",
    "\n",
    "\n",
    "\n"
   ]
  },
  {
   "cell_type": "code",
   "execution_count": 13,
   "id": "316bd4ab",
   "metadata": {},
   "outputs": [
    {
     "ename": "Exception",
     "evalue": "Sorry, no numbers below zero",
     "output_type": "error",
     "traceback": [
      "\u001b[1;31m---------------------------------------------------------------------------\u001b[0m",
      "\u001b[1;31mException\u001b[0m                                 Traceback (most recent call last)",
      "\u001b[1;32m<ipython-input-13-2edc57024fbc>\u001b[0m in \u001b[0;36m<module>\u001b[1;34m\u001b[0m\n\u001b[0;32m      2\u001b[0m \u001b[1;33m\u001b[0m\u001b[0m\n\u001b[0;32m      3\u001b[0m \u001b[1;32mif\u001b[0m \u001b[0mx\u001b[0m \u001b[1;33m<\u001b[0m \u001b[1;36m0\u001b[0m\u001b[1;33m:\u001b[0m\u001b[1;33m\u001b[0m\u001b[1;33m\u001b[0m\u001b[0m\n\u001b[1;32m----> 4\u001b[1;33m   \u001b[1;32mraise\u001b[0m \u001b[0mException\u001b[0m\u001b[1;33m(\u001b[0m\u001b[1;34m\"Sorry, no numbers below zero\"\u001b[0m\u001b[1;33m)\u001b[0m\u001b[1;33m\u001b[0m\u001b[1;33m\u001b[0m\u001b[0m\n\u001b[0m",
      "\u001b[1;31mException\u001b[0m: Sorry, no numbers below zero"
     ]
    }
   ],
   "source": [
    "x = -1\n",
    "\n",
    "if x < 0:\n",
    "  raise Exception(\"Sorry, no numbers below zero\")"
   ]
  },
  {
   "cell_type": "code",
   "execution_count": null,
   "id": "306e9ab9",
   "metadata": {},
   "outputs": [],
   "source": [
    " Q5. Identify two methods for specifying actions to be executed at termination time, regardless of\n",
    "whether or not an exception exists.\n",
    "\n",
    "Answer.\n",
    "Try.\n",
    "You can add actions within the Try action and the bot executes these actions as usual. If the bot does not encounter \n",
    "any errors, execution continues to the Finally action if it exists. However, if an error occurs, bot execution moves \n",
    "directly to the Catch action and does not complete the rest of the actions inside the Try action.\n",
    "\n",
    "\n",
    "Catch.\n",
    "If an error occurs within a Try action, the bot execution transfers control directly to the Catch action. You can assign \n",
    "values for the error description and the line number to variables within the Catch action. You can add additional actions \n",
    "within the Catch action to handle the error condition. These actions can include an Email Send action (sending an email about the error), \n",
    "a Log to file action (logging the error condition to a file), or a Screen Capture window to capture a screenshot of the window or application when the error occurs.\n",
    "If a Catch action is not present, the Try action, upon experiencing an error, will continue processing actions listed after the Try action.\n",
    "\n",
    "You can use the Try and Catch actions multiple times in a bot to handle various exceptions. This enables you to run a different set of actions based on the exception encountered."
   ]
  }
 ],
 "metadata": {
  "kernelspec": {
   "display_name": "Python 3",
   "language": "python",
   "name": "python3"
  },
  "language_info": {
   "codemirror_mode": {
    "name": "ipython",
    "version": 3
   },
   "file_extension": ".py",
   "mimetype": "text/x-python",
   "name": "python",
   "nbconvert_exporter": "python",
   "pygments_lexer": "ipython3",
   "version": "3.8.8"
  }
 },
 "nbformat": 4,
 "nbformat_minor": 5
}
