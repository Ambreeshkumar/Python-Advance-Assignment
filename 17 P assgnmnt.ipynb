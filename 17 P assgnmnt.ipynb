{
 "cells": [
  {
   "cell_type": "markdown",
   "id": "510a9e7b",
   "metadata": {},
   "source": [
    "Question1. \n",
    "Create a function that takes three arguments a, b, c and returns the sum of the\n",
    "numbers that are evenly divided by c from the range a, b inclusive.\n",
    "Examples\n",
    "evenly_divisible(1, 10, 20) ➞ 0\n",
    " No number between 1 and 10 can be evenly divided by 20.\n",
    "evenly_divisible(1, 10, 2) ➞ 30\n",
    "2 + 4 + 6 + 8 + 10 = 30\n",
    "evenly_divisible(1, 10, 3) ➞ 18\n",
    "3 + 6 + 9 = 18"
   ]
  },
  {
   "cell_type": "code",
   "execution_count": 21,
   "id": "b7854a28",
   "metadata": {},
   "outputs": [
    {
     "name": "stdout",
     "output_type": "stream",
     "text": [
      "enter the number A =3\n",
      "enter the number B =30\n",
      "enter the number C =5\n",
      "5 ,10 ,15 ,20 ,25 ,30 ,"
     ]
    },
    {
     "data": {
      "text/plain": [
       "38"
      ]
     },
     "execution_count": 21,
     "metadata": {},
     "output_type": "execute_result"
    }
   ],
   "source": [
    "def add(a,b,c):\n",
    "    sum = a+b+c\n",
    "    \n",
    "    if (b<=c):\n",
    "        print(\"No number between a and b can be evenly divided by c \")\n",
    "    else:\n",
    "        for i in range(c,b+1,c):\n",
    "            print(i,end=\" ,\")\n",
    "    return sum\n",
    "\n",
    "a = int(input(\"enter the number A =\"))\n",
    "b = int(input(\"enter the number B =\"))\n",
    "c = int(input(\"enter the number C =\"))\n",
    "add(a,b,c)"
   ]
  },
  {
   "cell_type": "code",
   "execution_count": null,
   "id": "a9448e7f",
   "metadata": {},
   "outputs": [],
   "source": [
    "Question2. \n",
    "Create a function that returns True if a given inequality expression is correct and\n",
    "False otherwise.\n",
    "Examples\n",
    "correct_signs(\"3 < 7 < 11\";) ➞ True\n",
    "correct_signs(\"13 44 &gt; 33 &gt; 1\";) ➞ False\n",
    "correct_signs(\"1 &lt; 2 &lt; 6 &lt; 9 &gt; 3\";) ➞ True"
   ]
  },
  {
   "cell_type": "code",
   "execution_count": 24,
   "id": "e148cd1f",
   "metadata": {},
   "outputs": [
    {
     "name": "stdout",
     "output_type": "stream",
     "text": [
      "True\n",
      "False\n",
      "True\n"
     ]
    }
   ],
   "source": [
    "# definition  \n",
    "# inequality function \n",
    "def check(s):\n",
    "    regex=eval(s)\n",
    "    if regex:\n",
    "        return True\n",
    "    else:\n",
    "        return False \n",
    "# printing result \n",
    "print(check(\"2 < 7 < 15\"))\n",
    "print(check(\"30 > 45 > 21 > 9\"))\n",
    "print(check(\"4 < 7 < 8< 12 > 2\"))"
   ]
  },
  {
   "cell_type": "code",
   "execution_count": null,
   "id": "09be5e2f",
   "metadata": {},
   "outputs": [],
   "source": [
    "Question3. \n",
    "Create a function that replaces all the vowels in a string with a specified character.\n"
   ]
  },
  {
   "cell_type": "code",
   "execution_count": 36,
   "id": "090cd6db",
   "metadata": {},
   "outputs": [
    {
     "name": "stdout",
     "output_type": "stream",
     "text": [
      "enter the string = ambreesh\n",
      "new string is #mbr##sh\n"
     ]
    }
   ],
   "source": [
    "def replaceVowels(str1):\n",
    "    str2 = ''\n",
    "    for i in str1:\n",
    "        if i in 'aeiouAEIOU':\n",
    "            str2=str2 +'#'\n",
    "        else:\n",
    "            str2 = str2 + i\n",
    "    print(\"new string is\",str2)\n",
    "            \n",
    "            \n",
    "str1 = input(\"enter the string = \")\n",
    "replaceVowels(str1)\n",
    "    "
   ]
  },
  {
   "cell_type": "code",
   "execution_count": null,
   "id": "f9afdd25",
   "metadata": {},
   "outputs": [],
   "source": [
    "Q4 \n",
    "Write a function that calculates the factorial of a number recursively.\n"
   ]
  },
  {
   "cell_type": "code",
   "execution_count": 53,
   "id": "c2c5b16a",
   "metadata": {},
   "outputs": [
    {
     "name": "stdout",
     "output_type": "stream",
     "text": [
      "enter the number = 5\n",
      "120\n"
     ]
    }
   ],
   "source": [
    "def factorial(n):\n",
    "    if (n==1):\n",
    "        return 1\n",
    "    else:\n",
    "        return (n*factorial(n-1))\n",
    "    \n",
    "n = int(input(\"enter the number = \"))\n",
    "a = factorial(n)\n",
    "print(a)"
   ]
  },
  {
   "cell_type": "code",
   "execution_count": null,
   "id": "e707d661",
   "metadata": {},
   "outputs": [],
   "source": [
    "Question 5\n",
    "Hamming distance is the number of characters that differ between two strings.\n"
   ]
  },
  {
   "cell_type": "code",
   "execution_count": 58,
   "id": "ef5f1977",
   "metadata": {},
   "outputs": [
    {
     "name": "stdout",
     "output_type": "stream",
     "text": [
      "15\n"
     ]
    }
   ],
   "source": [
    "# Hamming distance\n",
    "def hammingDist(str1, str2):\n",
    "    i = 0\n",
    "    count = 0\n",
    " \n",
    "    while(i < len(str1)):\n",
    "        if(str1[i] != str2[i]):\n",
    "            count += 1\n",
    "        i += 1\n",
    "    return count\n",
    " \n",
    "# Driver code \n",
    "str1 = \"ambreekspractice\"\n",
    "str2 = \"kumarerdspractise\"\n",
    " \n",
    "# function call\n",
    "print(hammingDist(str1, str2))\n",
    " "
   ]
  }
 ],
 "metadata": {
  "kernelspec": {
   "display_name": "Python 3",
   "language": "python",
   "name": "python3"
  },
  "language_info": {
   "codemirror_mode": {
    "name": "ipython",
    "version": 3
   },
   "file_extension": ".py",
   "mimetype": "text/x-python",
   "name": "python",
   "nbconvert_exporter": "python",
   "pygments_lexer": "ipython3",
   "version": "3.8.8"
  }
 },
 "nbformat": 4,
 "nbformat_minor": 5
}
