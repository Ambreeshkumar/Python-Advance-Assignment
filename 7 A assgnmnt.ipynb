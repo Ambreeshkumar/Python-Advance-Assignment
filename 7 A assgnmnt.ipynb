{
 "cells": [
  {
   "cell_type": "code",
   "execution_count": null,
   "id": "eca5a7e0",
   "metadata": {},
   "outputs": [],
   "source": [
    "Q1. What is the purpose of the try statement?\n",
    "\n",
    "Answer.\n",
    "\n",
    "Try Except in Python:\n",
    "Try and Except statement is used to handle these errors within our code in Python. \n",
    "The try block is used to check some code for errors i.e the code inside the try block \n",
    "will execute when there is no error in the program. Whereas the code inside the except \n",
    "block will execute whenever the program encounters some error in the preceding try block.\n",
    "\n",
    "\n",
    "First, the try clause is executed i.e. the code between try and except clause.\n",
    "If there is no exception, then only the try clause will run, except the clause is finished.\n",
    "If any exception occurs, the try clause will be skipped and except clause will run.\n",
    "If any exception occurs, but the except clause within the code doesn’t handle it, it is \n",
    "passed on to the outer try statements. If the exception is left unhandled, then the execution stops.\n",
    "A try statement can have more than one except clause\n"
   ]
  },
  {
   "cell_type": "code",
   "execution_count": 2,
   "id": "c774cad3",
   "metadata": {},
   "outputs": [
    {
     "name": "stdout",
     "output_type": "stream",
     "text": [
      "Yeah ! Your answer is : 1\n",
      "Sorry ! You are dividing by zero \n"
     ]
    }
   ],
   "source": [
    "#  code to illustrate\n",
    "# working of try()\n",
    "def divide(x, y):\n",
    "    try:\n",
    "        # Floor Division : Gives only Fractional Part as Answer\n",
    "        result = x // y\n",
    "        print(\"Yeah ! Your answer is :\", result)\n",
    "    except ZeroDivisionError:\n",
    "        print(\"Sorry ! You are dividing by zero \")\n",
    " \n",
    "# Look at parameters and note the working of Program\n",
    "divide(3, 2)\n",
    "divide(5,0)"
   ]
  },
  {
   "cell_type": "code",
   "execution_count": null,
   "id": "358a7c13",
   "metadata": {},
   "outputs": [],
   "source": [
    "Q2. What are the two most popular try statement variations?\n",
    "\n",
    "Answer.\n",
    "Error in Python can be of two types i.e. Syntax errors and Exceptions. Errors are the problems \n",
    "in a program due to which the program will stop the execution. On the other hand, exceptions are \n",
    "raised when some internal events occur which changes the normal flow of the program.\n",
    "\n",
    "Some of the common Exception Errors are : \n",
    " \n",
    "\n",
    "IOError: if the file can’t be opened\n",
    "KeyboardInterrupt: when an unrequired key is pressed by the user\n",
    "ValueError: when built-in function receives a wrong argument\n",
    "EOFError: if End-Of-File is hit without reading any data\n",
    "ImportError: if it is unable to find the module\n",
    " \n",
    "\n"
   ]
  },
  {
   "cell_type": "code",
   "execution_count": null,
   "id": "edce3beb",
   "metadata": {},
   "outputs": [],
   "source": [
    "Q3. What is the purpose of the raise statement?\n",
    "\n",
    "Answer. \n",
    "The raise keyword is used to raise an exception.\n",
    "\n",
    "You can define what kind of error to raise, and the text to print to the user.\n",
    "\n",
    "\n",
    "x = \"hello\"\n",
    "\n",
    "if not type(x) is int:\n",
    "  raise TypeError(\"Only integers are allowed\")"
   ]
  },
  {
   "cell_type": "code",
   "execution_count": null,
   "id": "f0e8df66",
   "metadata": {},
   "outputs": [],
   "source": [
    "Q4. What does the assert statement do, and what other statement is it like?\n",
    "\n",
    "Answer.\n",
    "An assert statement checks whether a condition is true. If a condition evaluates to True, a program will keep running. \n",
    "If a condition is false, the program will return an AssertionError. At this point, the program will stop executing.\n",
    "\n",
    "In Python, assert is a keyword. This means that you will see the assert keyword appear in a special color when you use it. \n",
    "It uses the following syntax:\n",
    "\n",
    "assert condition, message\n",
    "\n",
    "Here are the two parameters assert can take in:\n",
    "\n",
    "condition: the condition for which you want to test (required)\n",
    "message: the message you want to display upon execution of the assert statement (optional)\n"
   ]
  },
  {
   "cell_type": "code",
   "execution_count": 10,
   "id": "060c018f",
   "metadata": {},
   "outputs": [
    {
     "name": "stdout",
     "output_type": "stream",
     "text": [
      "The value of a / b is : \n"
     ]
    },
    {
     "ename": "AssertionError",
     "evalue": "",
     "output_type": "error",
     "traceback": [
      "\u001b[1;31m---------------------------------------------------------------------------\u001b[0m",
      "\u001b[1;31mAssertionError\u001b[0m                            Traceback (most recent call last)",
      "\u001b[1;32m<ipython-input-10-466156529f17>\u001b[0m in \u001b[0;36m<module>\u001b[1;34m\u001b[0m\n\u001b[0;32m      8\u001b[0m \u001b[1;31m# using assert to check for 0\u001b[0m\u001b[1;33m\u001b[0m\u001b[1;33m\u001b[0m\u001b[1;33m\u001b[0m\u001b[0m\n\u001b[0;32m      9\u001b[0m \u001b[0mprint\u001b[0m\u001b[1;33m(\u001b[0m\u001b[1;34m\"The value of a / b is : \"\u001b[0m\u001b[1;33m)\u001b[0m\u001b[1;33m\u001b[0m\u001b[1;33m\u001b[0m\u001b[0m\n\u001b[1;32m---> 10\u001b[1;33m \u001b[1;32massert\u001b[0m \u001b[0mb\u001b[0m \u001b[1;33m!=\u001b[0m \u001b[1;36m0\u001b[0m\u001b[1;33m\u001b[0m\u001b[1;33m\u001b[0m\u001b[0m\n\u001b[0m\u001b[0;32m     11\u001b[0m \u001b[0mprint\u001b[0m\u001b[1;33m(\u001b[0m\u001b[0ma\u001b[0m \u001b[1;33m/\u001b[0m \u001b[0mb\u001b[0m\u001b[1;33m)\u001b[0m\u001b[1;33m\u001b[0m\u001b[1;33m\u001b[0m\u001b[0m\n",
      "\u001b[1;31mAssertionError\u001b[0m: "
     ]
    }
   ],
   "source": [
    "# code to demonstrate\n",
    "# working of assert\n",
    "  \n",
    "# initializing number\n",
    "a = 4\n",
    "b = 0\n",
    "  \n",
    "# using assert to check for 0\n",
    "print(\"The value of a / b is : \")\n",
    "assert b != 0\n",
    "print(a / b)"
   ]
  },
  {
   "cell_type": "code",
   "execution_count": null,
   "id": "2d6bc44d",
   "metadata": {},
   "outputs": [],
   "source": [
    "Q5. What is the purpose of the with/as argument, and what other statement is it like?\n",
    "\n",
    "Answer. \n",
    "with statement in Python is used in exception handling to make the code cleaner and much more readable. \n",
    "It simplifies the management of common resources like file streams. Observe the following code example \n",
    "on how the use of with statement makes code cleaner.\n",
    "\n",
    "\n"
   ]
  },
  {
   "cell_type": "code",
   "execution_count": 5,
   "id": "67e55496",
   "metadata": {},
   "outputs": [
    {
     "ename": "IndentationError",
     "evalue": "unindent does not match any outer indentation level (<tokenize>, line 16)",
     "output_type": "error",
     "traceback": [
      "\u001b[1;36m  File \u001b[1;32m\"<tokenize>\"\u001b[1;36m, line \u001b[1;32m16\u001b[0m\n\u001b[1;33m    using with statement\u001b[0m\n\u001b[1;37m    ^\u001b[0m\n\u001b[1;31mIndentationError\u001b[0m\u001b[1;31m:\u001b[0m unindent does not match any outer indentation level\n"
     ]
    }
   ],
   "source": [
    "# file handling\n",
    "  \n",
    "# 1) without using with statement\n",
    "file = open('file_path', 'w')\n",
    "file.write('hello world !')\n",
    "file.close()\n",
    "  \n",
    "# 2) without using with statement\n",
    "file = open('file_path', 'w')\n",
    "try:\n",
    "    file.write('hello world')\n",
    "finally:\n",
    "    file.close()\n",
    "    \n",
    "\n",
    " using with statement\n",
    "with open('file_path', 'w') as file:\n",
    "    file.write('hello world !')"
   ]
  },
  {
   "cell_type": "code",
   "execution_count": null,
   "id": "63eb9869",
   "metadata": {},
   "outputs": [],
   "source": [
    "Notice that unlike the first two implementations, there is no need to call file.\n",
    "close() when using with statement. The with statement itself ensures proper \n",
    "acquisition and release of resources. An exception during the file.\n",
    "write() call in the first implementation can prevent the file from closing properly \n",
    "which may introduce several bugs in the code, i.e. many changes in files do not go into \n",
    "effect until the file is properly closed.\n",
    "\n",
    "The second approach in the above example takes care of all the exceptions but using the \n",
    "with statement makes the code compact and much more readable. Thus, with statement helps \n",
    "avoiding bugs and leaks by ensuring that a resource is properly released when the code \n",
    "using the resource is completely executed. The with statement is popularly used with \n",
    "file streams, as shown above and with Locks, sockets, subprocesses and telnets etc.\n",
    "\n",
    "\n",
    "There is nothing special in open() which makes it usable with the with statement and \n",
    "the same functionality can be provided in user defined objects. Supporting with statement \n",
    "in your objects will ensure that you never leave any resource open.\n",
    "To use with statement in user defined objects you only need to add the \n",
    "methods __enter__() and __exit__() in the object methods. Consider the following example \n",
    "for further clarification.\n",
    "\n",
    "\n",
    "\n"
   ]
  },
  {
   "cell_type": "code",
   "execution_count": 6,
   "id": "7d94fa27",
   "metadata": {},
   "outputs": [
    {
     "ename": "TypeError",
     "evalue": "__exit__() takes 1 positional argument but 4 were given",
     "output_type": "error",
     "traceback": [
      "\u001b[1;31m---------------------------------------------------------------------------\u001b[0m",
      "\u001b[1;31mTypeError\u001b[0m                                 Traceback (most recent call last)",
      "\u001b[1;32m<ipython-input-6-1b3754c56d8b>\u001b[0m in \u001b[0;36m<module>\u001b[1;34m\u001b[0m\n\u001b[0;32m     15\u001b[0m \u001b[1;33m\u001b[0m\u001b[0m\n\u001b[0;32m     16\u001b[0m \u001b[1;32mwith\u001b[0m \u001b[0mMessageWriter\u001b[0m\u001b[1;33m(\u001b[0m\u001b[1;34m'my_file.txt'\u001b[0m\u001b[1;33m)\u001b[0m \u001b[1;32mas\u001b[0m \u001b[0mxfile\u001b[0m\u001b[1;33m:\u001b[0m\u001b[1;33m\u001b[0m\u001b[1;33m\u001b[0m\u001b[0m\n\u001b[1;32m---> 17\u001b[1;33m     \u001b[0mxfile\u001b[0m\u001b[1;33m.\u001b[0m\u001b[0mwrite\u001b[0m\u001b[1;33m(\u001b[0m\u001b[1;34m'hello world'\u001b[0m\u001b[1;33m)\u001b[0m\u001b[1;33m\u001b[0m\u001b[1;33m\u001b[0m\u001b[0m\n\u001b[0m",
      "\u001b[1;31mTypeError\u001b[0m: __exit__() takes 1 positional argument but 4 were given"
     ]
    }
   ],
   "source": [
    "# a simple file writer object\n",
    "  \n",
    "class MessageWriter(object):\n",
    "    def __init__(self, file_name):\n",
    "        self.file_name = file_name\n",
    "      \n",
    "    def __enter__(self):\n",
    "        self.file = open(self.file_name, 'w')\n",
    "        return self.file\n",
    "  \n",
    "    def __exit__(self):\n",
    "        self.file.close()\n",
    "  \n",
    "# using with statement with MessageWriter\n",
    "  \n",
    "with MessageWriter('my_file.txt') as xfile:\n",
    "    xfile.write('hello world')"
   ]
  }
 ],
 "metadata": {
  "kernelspec": {
   "display_name": "Python 3",
   "language": "python",
   "name": "python3"
  },
  "language_info": {
   "codemirror_mode": {
    "name": "ipython",
    "version": 3
   },
   "file_extension": ".py",
   "mimetype": "text/x-python",
   "name": "python",
   "nbconvert_exporter": "python",
   "pygments_lexer": "ipython3",
   "version": "3.8.8"
  }
 },
 "nbformat": 4,
 "nbformat_minor": 5
}
