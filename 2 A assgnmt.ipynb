{
 "cells": [
  {
   "cell_type": "code",
   "execution_count": null,
   "id": "24dbc4d8",
   "metadata": {},
   "outputs": [],
   "source": [
    "Q1. What is the relationship between classes and modules?\n",
    "\n",
    "Answer.\n",
    "Modules are collections of methods and constants. They cannot generate instances. \n",
    "Classes may generate instances (objects), and have per-instance state (instance variables).\n",
    "\n",
    "Modules may be mixed in to classes and other modules. The mixed in module’s \n",
    "constants and methods blend into that class’s own, augmenting the class’s functionality. \n",
    "Classes, however, cannot be mixed in to anything.\n",
    "\n",
    "A class may inherit from another class, but not from a module.\n",
    "\n",
    "A module may not inherit from anything."
   ]
  },
  {
   "cell_type": "code",
   "execution_count": null,
   "id": "68e05132",
   "metadata": {},
   "outputs": [],
   "source": [
    "Q2. How do you make instances and classes?\n",
    "\n",
    "Answer.\n",
    "A class is a template for storing data and functions in an object. A class can be instantiated to create a unique instance. \n",
    "A class can accept parameters in the constructor.\n",
    "\n"
   ]
  },
  {
   "cell_type": "code",
   "execution_count": 5,
   "id": "8ca29574",
   "metadata": {},
   "outputs": [
    {
     "name": "stdout",
     "output_type": "stream",
     "text": [
      "<__main__.C object at 0x000001CC352BFD30>\n",
      "abc\n"
     ]
    }
   ],
   "source": [
    "#Call ClassName() to create a new instance of the class ClassName.\n",
    "\n",
    "class C:\n",
    "    pass\n",
    "\n",
    "an_instance = C()\n",
    "print(an_instance)\n",
    "\n",
    "\n",
    "\n",
    "# To pass parameters to the class instance, the class must have an __init__() method. Pass the parameters in the \n",
    "#constructor of the class.\n",
    "\n",
    "class C:\n",
    "    def __init__(self, data):\n",
    "        self.data = data\n",
    "\n",
    "an_instance = C(\"abc\")\n",
    "print(an_instance.data)"
   ]
  },
  {
   "cell_type": "code",
   "execution_count": null,
   "id": "6fad50d5",
   "metadata": {},
   "outputs": [],
   "source": [
    "A class is a user-defined blueprint or prototype from which objects are created. \n",
    "Classes provide a means of bundling data and functionality together. \n",
    "Creating a new class creates a new type of object, allowing new instances of that \n",
    "type to be made. Each class instance can have attributes attached to it for maintaining its state. \n",
    "Class instances can also have methods (defined by their class) for modifying their state.\n",
    "\n",
    "\n",
    "Some points on Python class:  \n",
    "Classes are created by keyword class.\n",
    "Attributes are the variables that belong to a class.\n",
    "Attributes are always public and can be accessed using the dot (.) operator. Eg.: Myclass.Myattribute\n"
   ]
  },
  {
   "cell_type": "code",
   "execution_count": null,
   "id": "bb11e895",
   "metadata": {},
   "outputs": [],
   "source": [
    "# program to\n",
    "# demonstrate defining\n",
    "# a class\n",
    " \n",
    "class Dog:\n",
    "    pass"
   ]
  },
  {
   "cell_type": "code",
   "execution_count": null,
   "id": "282bf8d5",
   "metadata": {},
   "outputs": [],
   "source": [
    "Q3. Where and how should be class attributes created?\n",
    "\n",
    "Answer.\n",
    "Inside a class, you should qualify all references to class attributes with the class name; \n",
    "for example, MyClass. attr1 . All references to instance attributes should be qualified with \n",
    "the self variable; for example, self.\n",
    "\n",
    "Any variable that is bound in a class is a class attribute. Any function defined within a \n",
    "class is a method. Methods receive an instance of the class, conventionally called self, \n",
    "as the first argument. For example, to define some class attributes and methods, you might \n",
    "enter the following code:"
   ]
  },
  {
   "cell_type": "code",
   "execution_count": 13,
   "id": "bce69edd",
   "metadata": {},
   "outputs": [],
   "source": [
    "class MyClass:\n",
    "    attr1 = 10        #class attributes\n",
    "    attr2 = \"hello\"\n",
    "\n",
    "    def method1(self):\n",
    "        print (MyClass.attr1)  #reference the class attribute\n",
    "\n",
    "    def method2(self):\n",
    "        print (MyClass.attr2)  #reference the class attribute\n",
    "\n",
    "    def method3(self, text):\n",
    "        self.text = text        #instance attribute\n",
    "        print (text, self.text)   #print my argument and my attribute\n",
    "        \n",
    "        method4 = method3   #make an alias for method3\n",
    "        \n",
    "        \n",
    "        \n",
    "        \n",
    "        \n",
    "# Inside a class, you should qualify all references to class attributes with the class name; for example, MyClass.attr1. \n",
    "# All references to instance attributes should be qualified with the self variable; for example, self.text. \n",
    "# Outside the class, you should qualify all references to class attributes with the class name (for example MyClass.attr1) \n",
    "# or with an instance of the class (for example x.attr1, where x is an instance of the class). Outside the \n",
    "# class, all references to instance variables should be qualified with an instance of the class; for example, x.text."
   ]
  },
  {
   "cell_type": "code",
   "execution_count": null,
   "id": "c2df0195",
   "metadata": {},
   "outputs": [],
   "source": [
    "Q4. Where and how are instance attributes created?\n",
    "\n",
    "Answer. \n",
    "Class attribute: are the variables defined directly in the class that are shared by all objects of the class\n",
    "    \n",
    "Instance attribute: are attributes or properties attached to an instance of a class. Instance attributes are defined in the constructor.\n",
    "    \n",
    "The following are attributes or properties attached to an instance of a class. Instance attributes are defined in the constructor.\n",
    "\n",
    "Class attribute:\n",
    "    \n",
    "1 = defined directly inside a class.\n",
    "2 = Share across all object.\n",
    "3 = Accessed using class name as well as using object\n",
    "    with  dot  notetion,\n",
    "    classname.class_attribute\n",
    "    oject.class_attribute\n",
    "4 = changing value by using \n",
    "     classname.class_attribute = value will be reflected\n",
    "    to all the object.\n",
    "    \n",
    "    \n",
    "instance attribute:\n",
    "1 = Defined inside a constructor using the self parameter.\n",
    "2 = Specific to object.\n",
    "3 = Accessed using object dot notation e.g. object.instance_attribute\n",
    "4 = Changing value of instance attribute will not be reflected to other objects.\n",
    "\n"
   ]
  },
  {
   "cell_type": "code",
   "execution_count": 2,
   "id": "9ed7df15",
   "metadata": {},
   "outputs": [
    {
     "data": {
      "text/plain": [
       "23"
      ]
     },
     "execution_count": 2,
     "metadata": {},
     "output_type": "execute_result"
    }
   ],
   "source": [
    "# The following example demonstrates the use of class attribute count\n",
    "\n",
    "class student:\n",
    "    count = 0\n",
    "    def __init__(self):\n",
    "        student.count +=1\n",
    "        \n",
    "        \n",
    "        \n",
    "# count is an attribute in the Student class. Whenever a new object is created, the value of count is \n",
    "# incremented by 1. You can now access the count attribute after creating the objects.\n",
    "\n",
    "std1=student()\n",
    "student.count\n",
    "\n",
    "std2 = student()\n",
    "student.count\n",
    "\n",
    "\n",
    "class student:\n",
    "    def __init__(self, name, age):\n",
    "        self.name = name\n",
    "        self.age= age\n",
    "        \n",
    "        \n",
    "        \n",
    "std = student(\"ambreesh\", 23)\n",
    "std.name\n",
    "std.age"
   ]
  },
  {
   "cell_type": "code",
   "execution_count": null,
   "id": "c48fefd3",
   "metadata": {},
   "outputs": [],
   "source": [
    "Q5. What does the term \"self\" in a Python class mean?\n",
    "\n",
    "Answer.\n",
    "self represents the instance of the class. By using the “self” keyword we can access \n",
    "the attributes and methods of the class in python. It binds the attributes with the given arguments.\n",
    "The reason you need to use self. is because Python does not use the @ syntax to refer to \n",
    "instance attributes. Python decided to do methods in a way that makes the instance to which the \n",
    "method belongs be passed automatically, but not received automatically: the first parameter of \n",
    "methods is the instance the method is called on.\n",
    "\n",
    "\n",
    "Self is always pointing to Current Object.\n",
    "\n"
   ]
  },
  {
   "cell_type": "code",
   "execution_count": 14,
   "id": "4639dcf2",
   "metadata": {},
   "outputs": [
    {
     "name": "stdout",
     "output_type": "stream",
     "text": [
      "Address of self =  1976577210928\n",
      "Address of class object =  1976577210928\n"
     ]
    }
   ],
   "source": [
    "#it is clearly seen that self and obj is referring to the same object\n",
    " \n",
    "class check:\n",
    "    def __init__(self):\n",
    "        print(\"Address of self = \",id(self))\n",
    " \n",
    "obj = check()\n",
    "print(\"Address of class object = \",id(obj))\n",
    " \n",
    "# this code is Contributed by Samyak Jain"
   ]
  },
  {
   "cell_type": "code",
   "execution_count": null,
   "id": "973e70cc",
   "metadata": {},
   "outputs": [],
   "source": [
    "Q6. How does a Python class handle operator overloading?\n",
    "\n",
    "Answer.\n",
    "How to overload the operators in Python? \n",
    "Consider that we have two objects which are a physical representation of a class (user-defined data type) and we have to add two \n",
    "objects with binary ‘+’ operator it throws an error, because compiler don’t know how to add two objects. So we define a method \n",
    "for an operator and that process is called operator overloading. We can overload all existing operators but we can’t create a new operator. \n",
    "To perform operator overloading, Python provides some special function or magic function that is automatically invoked when \n",
    "it is associated with that particular operator. For example, when we use + operator, the magic method __add__ is automatically \n",
    "invoked in which the operation for + operator is defined.\n",
    "\n",
    "\n",
    "\n"
   ]
  },
  {
   "cell_type": "code",
   "execution_count": 19,
   "id": "60e97467",
   "metadata": {},
   "outputs": [
    {
     "name": "stdout",
     "output_type": "stream",
     "text": [
      "3\n",
      "ambreeshkumar\n"
     ]
    }
   ],
   "source": [
    "# this  Program illustrate how\n",
    "# to overload an binary + operator\n",
    " \n",
    "class A:\n",
    "    def __init__(self, a):\n",
    "        self.a = a\n",
    " \n",
    "    # adding two objects\n",
    "    def __add__(self, o):\n",
    "        return self.a + o.a\n",
    "ob1 = A(1)\n",
    "ob2 = A(2)\n",
    "ob3 = A(\"ambreesh\")\n",
    "ob4 = A(\"kumar\")\n",
    " \n",
    "print(ob1 + ob2)\n",
    "print(ob3 + ob4)"
   ]
  },
  {
   "cell_type": "code",
   "execution_count": null,
   "id": "6fd8ff83",
   "metadata": {},
   "outputs": [],
   "source": [
    "Q7. When do you consider allowing operator overloading of your classes?\n",
    "\n",
    "Answer.\n",
    "Consider that we have two objects which are a physical representation of a class (user-defined data type) and \n",
    "we have to add two objects with binary ‘+’ operator it throws an error, because compiler don’t know how to add \n",
    "two objects. So we define a method for an operator and that process is called operator overloading\n",
    "\n",
    "\n"
   ]
  },
  {
   "cell_type": "code",
   "execution_count": null,
   "id": "c98997f3",
   "metadata": {},
   "outputs": [],
   "source": [
    "Q8. What is the most popular form of operator overloading?\n",
    "\n",
    "Answer.\n",
    "Operator overloading is the process of using an operator in different ways depending on the operands. \n",
    "You can change the way an operator in Python works on different data-types.\n",
    "\n",
    "A very popular and convenient example is the Addition (+) operator.\n",
    "\n",
    "Just think how the ‘+’ operator operates on two numbers and the same operator operates on two strings. \n",
    "It performs “Addition” on numbers whereas it performs “Concatenation” on strings.\n",
    "\n",
    "Operators in Python work for built-in classes, like int, str, list, etc. But you can extend their \n",
    "operability such that they work on objects of user-defined classes too.\n",
    "\n",
    "\n",
    "\n"
   ]
  },
  {
   "cell_type": "code",
   "execution_count": 24,
   "id": "19bb47fa",
   "metadata": {},
   "outputs": [
    {
     "ename": "TypeError",
     "evalue": "unsupported operand type(s) for +: 'bubble' and 'bubble'",
     "output_type": "error",
     "traceback": [
      "\u001b[1;31m---------------------------------------------------------------------------\u001b[0m",
      "\u001b[1;31mTypeError\u001b[0m                                 Traceback (most recent call last)",
      "\u001b[1;32m<ipython-input-24-99700635ab21>\u001b[0m in \u001b[0;36m<module>\u001b[1;34m\u001b[0m\n\u001b[0;32m      5\u001b[0m \u001b[0mb1\u001b[0m \u001b[1;33m=\u001b[0m \u001b[0mbubble\u001b[0m\u001b[1;33m(\u001b[0m\u001b[1;36m20\u001b[0m\u001b[1;33m)\u001b[0m\u001b[1;33m\u001b[0m\u001b[1;33m\u001b[0m\u001b[0m\n\u001b[0;32m      6\u001b[0m \u001b[0mb2\u001b[0m \u001b[1;33m=\u001b[0m \u001b[0mbubble\u001b[0m\u001b[1;33m(\u001b[0m\u001b[1;36m30\u001b[0m\u001b[1;33m)\u001b[0m\u001b[1;33m\u001b[0m\u001b[1;33m\u001b[0m\u001b[0m\n\u001b[1;32m----> 7\u001b[1;33m \u001b[0mb1\u001b[0m \u001b[1;33m+\u001b[0m \u001b[0mb2\u001b[0m\u001b[1;33m\u001b[0m\u001b[1;33m\u001b[0m\u001b[0m\n\u001b[0m",
      "\u001b[1;31mTypeError\u001b[0m: unsupported operand type(s) for +: 'bubble' and 'bubble'"
     ]
    }
   ],
   "source": [
    "class bubble:\n",
    "    def __init__(self, volume):\n",
    "        self.volume = volume\n",
    "        \n",
    "b1 = bubble(20)\n",
    "b2 = bubble(30)\n",
    "b1 + b2"
   ]
  },
  {
   "cell_type": "code",
   "execution_count": null,
   "id": "b6fa0f7c",
   "metadata": {},
   "outputs": [],
   "source": [
    "Clearly this doesn’t work right now. That’s because we haven’t extended its operability yet and it only works on built-in classes.\n",
    "\n",
    "So how do we make these operators work on our user-defined class bubble as well? This is where “magic methods” come into the picture.\n",
    "\n",
    "Magic methods in Python are special methods that begin and end with a double underscore( __ ).\n",
    "\n",
    "The __init__() is one such method.\n",
    "\n",
    "Another magic method at our disposal is the __str__() method.\n",
    "\n",
    "The __str__() method lets you control how an object of your class gets printed.\n",
    "\n",
    "So if we add this method to our bubble class and print an object of the class, it should work as follows:\n",
    "\n",
    "\n",
    "\n",
    "\n"
   ]
  },
  {
   "cell_type": "code",
   "execution_count": 28,
   "id": "40c1cac4",
   "metadata": {},
   "outputs": [
    {
     "name": "stdout",
     "output_type": "stream",
     "text": [
      "volume is 20\n",
      "volume is 50\n"
     ]
    }
   ],
   "source": [
    "class bubble:\n",
    "    def __init__(self, volume):\n",
    "        self.volume = volume\n",
    "    def __str__(self):\n",
    "        return \"volume is \" + str(self.volume)\n",
    "    \n",
    "    \n",
    "b1 = bubble(20)\n",
    "print(b1)\n",
    "\n",
    "\n",
    "\n",
    "# Lastly, let’s add the block of code which will make the ‘+’ operator operate on \n",
    "# objects of bubble. Turns out, we have a magic method for this too, i.e., the __add__() method.\n",
    "\n",
    "class bubble:\n",
    "    def __init__(self, volume):\n",
    "        self.volume = volume\n",
    "    def __str__(self):\n",
    "        return \"volume is \" + str(self.volume)\n",
    "    def __add__(self, other):\n",
    "        volume = self.volume + other.volume\n",
    "        return bubble(volume)\n",
    "    \n",
    "b1 = bubble(20)\n",
    "b2 = bubble(30)\n",
    "b3 = b1 + b2\n",
    "print(b3)"
   ]
  },
  {
   "cell_type": "code",
   "execution_count": null,
   "id": "8da8be3d",
   "metadata": {},
   "outputs": [],
   "source": [
    "Q7. What are the two most important concepts to grasp in order to comprehend Python OOP code?\n",
    "\n",
    "Answer.\n",
    "Everything in Python is an object and every object has a type. These types are declared and defined using classes. \n",
    "Thus, classes can be considered as the heart of OOP.\n",
    "\n",
    "In order to develop robust and well-designed software products with Python, it is essential to obtain a comprehensive \n",
    "understanding of OOP. \n",
    "i will elaborate on two key concepts of opp which are \n",
    "inheritance and polymorphism.\n",
    "\n",
    "Both inheritance and polymorphism are key ingredients for designing robust, flexible, and easy-to-maintain software. \n",
    "These concepts are best explained via examples. Let’s start with creating a simple class.\n",
    "\n",
    "\n"
   ]
  },
  {
   "cell_type": "code",
   "execution_count": 30,
   "id": "0ddd08fd",
   "metadata": {},
   "outputs": [
    {
     "name": "stdout",
     "output_type": "stream",
     "text": [
      "56000\n",
      "58800.0\n"
     ]
    },
    {
     "data": {
      "text/plain": [
       "58800.0"
      ]
     },
     "execution_count": 30,
     "metadata": {},
     "output_type": "execute_result"
    }
   ],
   "source": [
    "class Employee():\n",
    "    def __init__(self, emp_id, salary):\n",
    "        self.emp_id = emp_id\n",
    "        self.salary = salary\n",
    "    def give_raise(self):\n",
    "        self.salary = self.salary * 1.05\n",
    "        \n",
    "emp1 = Employee(1001, 56000)\n",
    "print(emp1.salary)\n",
    "56000\n",
    "emp1.give_raise()\n",
    "print(emp1.salary)\n",
    "58800.0"
   ]
  },
  {
   "cell_type": "code",
   "execution_count": null,
   "id": "c9c0b263",
   "metadata": {},
   "outputs": [],
   "source": [
    "We have created a class called Employee. It has two data attributes which are employee \n",
    "id (emp_id) and salary. We have also defined a method called give_raise. It applies a \n",
    "5-percent increase on the salary of an employee.\n",
    "\n",
    "We can create an instance of the Employee class (i.e. an object with Employee type) and \n",
    "apply the give_raise method as follows:\n",
    "    \n",
    "    \n",
    "    \n"
   ]
  },
  {
   "cell_type": "code",
   "execution_count": null,
   "id": "6e95c1bd",
   "metadata": {},
   "outputs": [],
   "source": [
    "# OOP allows us to create a class based on another class. For instance, \n",
    "# we can create the Manager class based on the Employee class.\n",
    "\n",
    "\n",
    "class Manager(Employee):\n",
    "   pass"
   ]
  },
  {
   "cell_type": "code",
   "execution_count": 32,
   "id": "a4bfbd8d",
   "metadata": {},
   "outputs": [
    {
     "name": "stdout",
     "output_type": "stream",
     "text": [
      "75000\n",
      "82500.0\n"
     ]
    },
    {
     "data": {
      "text/plain": [
       "82500"
      ]
     },
     "execution_count": 32,
     "metadata": {},
     "output_type": "execute_result"
    }
   ],
   "source": [
    "# In this scenario, Manager is said to be a child class of the Employee class. \n",
    "# The child class copies the attributes (both data and procedural) from the parent class. \n",
    "# This concept is called inheritance\n",
    "\n",
    "\n",
    "class Manager(Employee):\n",
    "   def give_raise(self):\n",
    "      self.salary = self.salary * 1.10\n",
    "mgr1 = Manager(101, 75000)\n",
    "print(mgr1.salary)\n",
    "75000\n",
    "mgr1.give_raise()\n",
    "print(mgr1.salary)\n",
    "82500\n",
    "\n"
   ]
  }
 ],
 "metadata": {
  "kernelspec": {
   "display_name": "Python 3",
   "language": "python",
   "name": "python3"
  },
  "language_info": {
   "codemirror_mode": {
    "name": "ipython",
    "version": 3
   },
   "file_extension": ".py",
   "mimetype": "text/x-python",
   "name": "python",
   "nbconvert_exporter": "python",
   "pygments_lexer": "ipython3",
   "version": "3.8.8"
  }
 },
 "nbformat": 4,
 "nbformat_minor": 5
}
